{
 "cells": [
  {
   "cell_type": "code",
   "execution_count": null,
   "metadata": {},
   "outputs": [],
   "source": [
    "df = pd.DataFrame(boston.data, columns=boston.feature_names)\n",
    "df['target'] = boston.target\n",
    "\n",
    "# Print the first few rows of the DataFrame\n",
    "print(df.head())\n",
    "\n",
    "# Print the shape of the DataFrame\n",
    "print(df.shape)\n",
    "\n",
    "# Print the summary statistics of the DataFrame\n",
    "print(df.describe())\n",
    "\n",
    "# Visualize the distribution of the target variable using a histogram:\n",
    "sns.histplot(df['target'], kde=True)\n",
    "plt.show()"
   ]
  }
 ],
 "metadata": {
  "language_info": {
   "name": "python"
  },
  "orig_nbformat": 4
 },
 "nbformat": 4,
 "nbformat_minor": 2
}
