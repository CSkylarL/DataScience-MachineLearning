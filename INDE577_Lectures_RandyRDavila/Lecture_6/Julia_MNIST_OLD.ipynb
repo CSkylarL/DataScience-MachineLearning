{
 "cells": [
  {
   "cell_type": "markdown",
   "metadata": {},
   "source": [
    "## MNIST Data Set\n",
    "\n",
    "The MNIST data set consists of $70000$ images of hand written digits, $60000$ of which are typically used as labeled training examples, where the other $10000$ are used for testing your learning model on. The following picture represent a sample of some of the images.\n",
    "\n",
    "<img src=\"MnistExamples.png\" alt=\"Drawing\" style=\"width: 500px;\"/>\n",
    "\n",
    "\n",
    "To access this data set, as well as view the data as an image, we will need the following packages:\n",
    " * MLDatasets [documentation](https://github.com/JuliaML/MLDatasets.jl)\n",
    " * Images, TestImages, ImageMagicIO [documentation](https://juliaimages.org/latest/)"
   ]
  },
  {
   "cell_type": "code",
   "execution_count": 13,
   "metadata": {},
   "outputs": [
    {
     "name": "stdout",
     "output_type": "stream",
     "text": [
      "\u001b[32m\u001b[1m Resolving\u001b[22m\u001b[39m package versions...\n",
      "\u001b[32m\u001b[1m  Updating\u001b[22m\u001b[39m `~/.julia/environments/v1.0/Project.toml`\n",
      "\u001b[90m [no changes]\u001b[39m\n",
      "\u001b[32m\u001b[1m  Updating\u001b[22m\u001b[39m `~/.julia/environments/v1.0/Manifest.toml`\n",
      "\u001b[90m [no changes]\u001b[39m\n",
      "\u001b[32m\u001b[1m Resolving\u001b[22m\u001b[39m package versions...\n",
      "\u001b[32m\u001b[1m  Updating\u001b[22m\u001b[39m `~/.julia/environments/v1.0/Project.toml`\n",
      "\u001b[90m [no changes]\u001b[39m\n",
      "\u001b[32m\u001b[1m  Updating\u001b[22m\u001b[39m `~/.julia/environments/v1.0/Manifest.toml`\n",
      "\u001b[90m [no changes]\u001b[39m\n",
      "\u001b[32m\u001b[1m  Updating\u001b[22m\u001b[39m registry at `~/.julia/registries/General`\n",
      "\u001b[32m\u001b[1m  Updating\u001b[22m\u001b[39m git-repo `https://github.com/JuliaRegistries/General.git`\n",
      "\u001b[?25l\u001b[2K\u001b[?25h"
     ]
    }
   ],
   "source": [
    "import Pkg; Pkg.add(\"MLDatasets\")\n",
    "Pkg.add(\"TestImages\")\n",
    "Pkg.instantiate()\n",
    "using MLDatasets, Plots, Images, TestImages\n",
    "\n",
    "\"\n",
    "train_x, train_y = Fashion_MNIST.traindata()\n",
    "test_x,  test_y  = Fashion_MNIST.testdata()\n",
    "\"\n",
    "\n",
    "train_x, train_y = MNIST.traindata()\n",
    "test_x,  test_y  = MNIST.testdata()\n",
    "\n",
    "# Flatten the matrix input data into a vector\n",
    "X = []   # Flattened 784 column vectors\n",
    "Y = []   # One-hot encoding label vectors \n",
    "for i = 1:60000\n",
    "    push!(X, reshape(train_x[:,:,i], 784))\n",
    "    y = zeros(10)\n",
    "    y[train_y[i] + 1] = 1.0\n",
    "    push!(Y,y)\n",
    "end\n",
    "train_data = [x for x in zip(X, Y)];\n",
    "\n",
    "# Flatten the matrix input data into a vector\n",
    "X = []   # Flattened 784 column vectors\n",
    "Y = []   # One-hot encoding label vectors \n",
    "for i = 1:10000\n",
    "    push!(X, reshape(test_x[:,:,i], 784))\n",
    "    y = zeros(10)\n",
    "    y[test_y[i] + 1] = 1.0\n",
    "    push!(Y,y)\n",
    "end\n",
    "test_data = [x for x in zip(X, Y)];"
   ]
  },
  {
   "cell_type": "code",
   "execution_count": 14,
   "metadata": {},
   "outputs": [
    {
     "data": {
      "text/plain": [
       "show_test_img (generic function with 1 method)"
      ]
     },
     "execution_count": 14,
     "metadata": {},
     "output_type": "execute_result"
    }
   ],
   "source": [
    "# Fun ways to visualize images\n",
    "function show_training_img(i)\n",
    "    colorview(Gray, train_x[:,:,i]')\n",
    "end\n",
    "\n",
    "function show_test_img(i)\n",
    "    colorview(Gray, test_x[:,:,i]')\n",
    "end"
   ]
  },
  {
   "cell_type": "markdown",
   "metadata": {},
   "source": [
    "## Building the Network Architecture \n",
    "For our purposes, we will build a multilayered perceptron with $L$ layers, $784$ input notes, $L-2$ hidden layers of arbitrary size, and $10$ output nodes. \n",
    "\n",
    "<img src=\"multilayerPerceptron.jpg\" alt=\"Drawing\" style=\"width: 450px;\"/>\n",
    "\n",
    "For $l = 2, \\dots, L$, each layer $l$ in our network will have two phases, the preactivation phase $$z^l = W^la^{l-1} + b^l,$$ and postactivation phase $$a^l = \\sigma(z^l).$$ The preactivation phase consists of a weighted linear combination of postactivation values in the previous layer. The postactivation values consists of passing the preactivation value through an activation function elementwise. Note $a^1 = x$, where $x$ is the current input data into our network. For our activation function, we will use the sigmoid function:\n",
    "\n",
    "* Sigmoid Function\n",
    "$$\n",
    "\\sigma(s) = \\frac{1}{1+e^{-s}}.\n",
    "$$\n",
    "\n",
    "For our cost function, we will use the Mean Sqaure Error cost:\n",
    "$$\n",
    "C = C(W, b) = \\frac{1}{2}\\sum_{i=1}^n||a^i - y^i||^2.\n",
    "$$"
   ]
  },
  {
   "cell_type": "code",
   "execution_count": 15,
   "metadata": {},
   "outputs": [
    {
     "data": {
      "text/plain": [
       "total_MSE (generic function with 1 method)"
      ]
     },
     "execution_count": 15,
     "metadata": {},
     "output_type": "execute_result"
    }
   ],
   "source": [
    "# Define sigmoid function\n",
    "σ(v) = 1.0/(1.0 + exp(-v))\n",
    "\n",
    "# Define the derivative of the sigmoid function\n",
    "dσ(v) = σ(v)*(1.0 - σ(v))\n",
    "\n",
    "# Define the cost of a given output\n",
    "MSE(a, y) = (1/2)*sum((a[i] - y[i])^2 for i = 1:size(a)[1])\n",
    "\n",
    "# Define the total cost of a dataset with respect to weights and bias\n",
    "function total_MSE(W, b, labeled_data)\n",
    "    cost = 0.0\n",
    "    for i = 1:60000\n",
    "        Z, A = forward_pass(W, b, labeled_data[i])\n",
    "        cost += MSE(σ.(A[size(W)[1]]), labeled_data[i][2])\n",
    "    end\n",
    "    return cost/60000\n",
    "end"
   ]
  },
  {
   "cell_type": "code",
   "execution_count": 16,
   "metadata": {},
   "outputs": [
    {
     "data": {
      "text/plain": [
       "random_test (generic function with 1 method)"
      ]
     },
     "execution_count": 16,
     "metadata": {},
     "output_type": "execute_result"
    }
   ],
   "source": [
    "# Define feedforward pass of the network \n",
    "function forward_pass(W, b, x)\n",
    "    Z = [[0.0]]\n",
    "    A = [x[1]]\n",
    "    for i = 2:size(W)[1]\n",
    "        push!(Z, W[i]*A[i-1] + b[i])\n",
    "        push!(A, σ.(Z[i]))\n",
    "    end\n",
    "    return Z, A\n",
    "end\n",
    "\n",
    "# Define the predicted outcome of the network with a function\n",
    "function predict(W, b, x)\n",
    "    Z, A = forward_pass(W, b, x)\n",
    "    return argmax(A[end])- 1\n",
    "end\n",
    "\n",
    "function random_train(W, b, data_set, labeled_data_set)\n",
    "    i = rand(1:size(data_set)[1])\n",
    "    println(\"Predicted Label: \", predict(W, b, data_set[i]))\n",
    "    println(\"Actual Label: \", labeled_data_set[i])\n",
    "    show_training_img(i)\n",
    "end\n",
    "\n",
    "function random_test(W, b, data_set, labeled_data_set)\n",
    "    i = rand(1:size(data_set)[1])\n",
    "    println(\"Predicted Label: \", predict(W, b, data_set[i]))\n",
    "    println(\"Actual Label: \", labeled_data_set[i])\n",
    "    show_test_img(i)\n",
    "end"
   ]
  },
  {
   "cell_type": "code",
   "execution_count": 17,
   "metadata": {},
   "outputs": [
    {
     "data": {
      "text/plain": [
       "initialize_weights (generic function with 1 method)"
      ]
     },
     "execution_count": 17,
     "metadata": {},
     "output_type": "execute_result"
    }
   ],
   "source": [
    "# Initialize your weights/bias according to a normalized distribution\n",
    "# with mean = 0.0 and standard deviation 1.0\n",
    "function initialize_weights(input_layer_size, hidden_layer_sizes, output_layer_size)\n",
    "    W = [[0.0], randn(hidden_layer_sizes[1], input_layer_size)]\n",
    "    b = [[0.0], randn(hidden_layer_sizes[1])]\n",
    "    \n",
    "    for i = 2:size(hidden_layer_sizes)[1]\n",
    "        push!(W, randn(hidden_layer_sizes[i], hidden_layer_sizes[i-1]))\n",
    "        push!(b, randn(hidden_layer_sizes[i]))\n",
    "    end\n",
    "    \n",
    "    push!(W, randn(output_layer_size, hidden_layer_sizes[end]))\n",
    "    push!(b, randn(output_layer_size))\n",
    "    \n",
    "    return W, b\n",
    "end"
   ]
  },
  {
   "cell_type": "code",
   "execution_count": 18,
   "metadata": {},
   "outputs": [],
   "source": [
    "# Test your function\n",
    "# In this example: input layer = 784x1 -> 70x1 -> 70x1 -> 10X1 = output layer\n",
    "W_test, b_test = initialize_weights(784, [100], 10);"
   ]
  },
  {
   "cell_type": "code",
   "execution_count": 19,
   "metadata": {},
   "outputs": [
    {
     "data": {
      "text/plain": [
       "(10, 100)"
      ]
     },
     "execution_count": 19,
     "metadata": {},
     "output_type": "execute_result"
    }
   ],
   "source": [
    "size(W_test[3])"
   ]
  },
  {
   "cell_type": "code",
   "execution_count": 20,
   "metadata": {},
   "outputs": [
    {
     "data": {
      "text/plain": [
       "deltas (generic function with 1 method)"
      ]
     },
     "execution_count": 20,
     "metadata": {},
     "output_type": "execute_result"
    }
   ],
   "source": [
    "function deltas(W, b, x) \n",
    "    Z, A = forward_pass(W, b, x)\n",
    "    L = size(W)[1]\n",
    "    δ = Dict()\n",
    "    δ[L] = (A[end] - x[2]).*dσ.(Z[end])\n",
    "    for i = L-1:-1:2\n",
    "        δ[i] = (W[i+1]'*δ[i+1]).*dσ.(Z[i])\n",
    "    end\n",
    "    return A, δ\n",
    "end"
   ]
  },
  {
   "cell_type": "code",
   "execution_count": 21,
   "metadata": {},
   "outputs": [
    {
     "data": {
      "text/plain": [
       "stochastic_gradient_descent (generic function with 1 method)"
      ]
     },
     "execution_count": 21,
     "metadata": {},
     "output_type": "execute_result"
    }
   ],
   "source": [
    "function stochastic_gradient_descent(W, b, data_set, batch_size, epochs, η; show_cost = false)\n",
    "    W_new = copy(W)\n",
    "    b_new = copy(b)\n",
    "    L = size(W)[1]\n",
    "    \n",
    "    if show_cost == true\n",
    "        cost_points = [(0, total_MSE(W_new, b_new, data_set))]\n",
    "\n",
    "        for j = 1:epochs\n",
    "            k = rand(1:size(data_set)[1]-batch_size)\n",
    "            batch = data_set[k:k+batch_size]\n",
    "            for x in batch\n",
    "                A, δ = deltas(W_new, b_new, x)\n",
    "                for i = L:-1:2\n",
    "                    W_new[i] -= (η/batch_size)*δ[i]*A[i-1]'\n",
    "                    b_new[i] -= (η/batch_size)*δ[i]\n",
    "                end \n",
    "            end\n",
    "        \n",
    "        push!(cost_points, (j, total_MSE(W_new, b_new, data_set)))\n",
    "        end\n",
    "        n = η\n",
    "        plot(cost_points, \n",
    "            xaxis = \"Epochs\", \n",
    "            yaxis = \"Cost\",\n",
    "            title = \"epochs = $epochs, batch size = $batch_size, eta = $n\",\n",
    "            legend = false)\n",
    "        \n",
    "        return W_new, b_new\n",
    "    else\n",
    "        for j = 1:epochs\n",
    "            k = rand(1:size(data_set)[1]-batch_size)\n",
    "            batch = data_set[k:k+batch_size]\n",
    "            for x in batch\n",
    "                A, δ = deltas(W_new, b_new, x)\n",
    "                for i = L:-1:2\n",
    "                    W_new[i] -= (η/batch_size)*δ[i]*A[i-1]'\n",
    "                    b_new[i] -= (η/batch_size)*δ[i]\n",
    "                end \n",
    "            end\n",
    "        end\n",
    "\n",
    "        return W_new, b_new\n",
    "    end\n",
    "end"
   ]
  },
  {
   "cell_type": "code",
   "execution_count": 22,
   "metadata": {},
   "outputs": [
    {
     "data": {
      "image/svg+xml": [
       "<?xml version=\"1.0\" encoding=\"utf-8\"?>\n",
       "<svg xmlns=\"http://www.w3.org/2000/svg\" xmlns:xlink=\"http://www.w3.org/1999/xlink\" width=\"600\" height=\"400\" viewBox=\"0 0 2400 1600\">\n",
       "<defs>\n",
       "  <clipPath id=\"clip930\">\n",
       "    <rect x=\"0\" y=\"0\" width=\"2400\" height=\"1600\"/>\n",
       "  </clipPath>\n",
       "</defs>\n",
       "<path clip-path=\"url(#clip930)\" d=\"\n",
       "M0 1600 L2400 1600 L2400 0 L0 0  Z\n",
       "  \" fill=\"#ffffff\" fill-rule=\"evenodd\" fill-opacity=\"1\"/>\n",
       "<defs>\n",
       "  <clipPath id=\"clip931\">\n",
       "    <rect x=\"480\" y=\"0\" width=\"1681\" height=\"1600\"/>\n",
       "  </clipPath>\n",
       "</defs>\n",
       "<path clip-path=\"url(#clip930)\" d=\"\n",
       "M287.528 1423.18 L2352.76 1423.18 L2352.76 123.472 L287.528 123.472  Z\n",
       "  \" fill=\"#ffffff\" fill-rule=\"evenodd\" fill-opacity=\"1\"/>\n",
       "<defs>\n",
       "  <clipPath id=\"clip932\">\n",
       "    <rect x=\"287\" y=\"123\" width=\"2066\" height=\"1301\"/>\n",
       "  </clipPath>\n",
       "</defs>\n",
       "<polyline clip-path=\"url(#clip932)\" style=\"stroke:#000000; stroke-width:2; stroke-opacity:0.1; fill:none\" points=\"\n",
       "  345.978,1423.18 345.978,123.472 \n",
       "  \"/>\n",
       "<polyline clip-path=\"url(#clip932)\" style=\"stroke:#000000; stroke-width:2; stroke-opacity:0.1; fill:none\" points=\"\n",
       "  833.06,1423.18 833.06,123.472 \n",
       "  \"/>\n",
       "<polyline clip-path=\"url(#clip932)\" style=\"stroke:#000000; stroke-width:2; stroke-opacity:0.1; fill:none\" points=\"\n",
       "  1320.14,1423.18 1320.14,123.472 \n",
       "  \"/>\n",
       "<polyline clip-path=\"url(#clip932)\" style=\"stroke:#000000; stroke-width:2; stroke-opacity:0.1; fill:none\" points=\"\n",
       "  1807.22,1423.18 1807.22,123.472 \n",
       "  \"/>\n",
       "<polyline clip-path=\"url(#clip932)\" style=\"stroke:#000000; stroke-width:2; stroke-opacity:0.1; fill:none\" points=\"\n",
       "  2294.31,1423.18 2294.31,123.472 \n",
       "  \"/>\n",
       "<polyline clip-path=\"url(#clip932)\" style=\"stroke:#000000; stroke-width:2; stroke-opacity:0.1; fill:none\" points=\"\n",
       "  287.528,1129.71 2352.76,1129.71 \n",
       "  \"/>\n",
       "<polyline clip-path=\"url(#clip932)\" style=\"stroke:#000000; stroke-width:2; stroke-opacity:0.1; fill:none\" points=\"\n",
       "  287.528,806.218 2352.76,806.218 \n",
       "  \"/>\n",
       "<polyline clip-path=\"url(#clip932)\" style=\"stroke:#000000; stroke-width:2; stroke-opacity:0.1; fill:none\" points=\"\n",
       "  287.528,482.731 2352.76,482.731 \n",
       "  \"/>\n",
       "<polyline clip-path=\"url(#clip932)\" style=\"stroke:#000000; stroke-width:2; stroke-opacity:0.1; fill:none\" points=\"\n",
       "  287.528,159.244 2352.76,159.244 \n",
       "  \"/>\n",
       "<polyline clip-path=\"url(#clip930)\" style=\"stroke:#000000; stroke-width:4; stroke-opacity:1; fill:none\" points=\"\n",
       "  287.528,1423.18 2352.76,1423.18 \n",
       "  \"/>\n",
       "<polyline clip-path=\"url(#clip930)\" style=\"stroke:#000000; stroke-width:4; stroke-opacity:1; fill:none\" points=\"\n",
       "  287.528,1423.18 287.528,123.472 \n",
       "  \"/>\n",
       "<polyline clip-path=\"url(#clip930)\" style=\"stroke:#000000; stroke-width:4; stroke-opacity:1; fill:none\" points=\"\n",
       "  345.978,1423.18 345.978,1407.58 \n",
       "  \"/>\n",
       "<polyline clip-path=\"url(#clip930)\" style=\"stroke:#000000; stroke-width:4; stroke-opacity:1; fill:none\" points=\"\n",
       "  833.06,1423.18 833.06,1407.58 \n",
       "  \"/>\n",
       "<polyline clip-path=\"url(#clip930)\" style=\"stroke:#000000; stroke-width:4; stroke-opacity:1; fill:none\" points=\"\n",
       "  1320.14,1423.18 1320.14,1407.58 \n",
       "  \"/>\n",
       "<polyline clip-path=\"url(#clip930)\" style=\"stroke:#000000; stroke-width:4; stroke-opacity:1; fill:none\" points=\"\n",
       "  1807.22,1423.18 1807.22,1407.58 \n",
       "  \"/>\n",
       "<polyline clip-path=\"url(#clip930)\" style=\"stroke:#000000; stroke-width:4; stroke-opacity:1; fill:none\" points=\"\n",
       "  2294.31,1423.18 2294.31,1407.58 \n",
       "  \"/>\n",
       "<polyline clip-path=\"url(#clip930)\" style=\"stroke:#000000; stroke-width:4; stroke-opacity:1; fill:none\" points=\"\n",
       "  287.528,1129.71 312.311,1129.71 \n",
       "  \"/>\n",
       "<polyline clip-path=\"url(#clip930)\" style=\"stroke:#000000; stroke-width:4; stroke-opacity:1; fill:none\" points=\"\n",
       "  287.528,806.218 312.311,806.218 \n",
       "  \"/>\n",
       "<polyline clip-path=\"url(#clip930)\" style=\"stroke:#000000; stroke-width:4; stroke-opacity:1; fill:none\" points=\"\n",
       "  287.528,482.731 312.311,482.731 \n",
       "  \"/>\n",
       "<polyline clip-path=\"url(#clip930)\" style=\"stroke:#000000; stroke-width:4; stroke-opacity:1; fill:none\" points=\"\n",
       "  287.528,159.244 312.311,159.244 \n",
       "  \"/>\n",
       "<path clip-path=\"url(#clip930)\" d=\"M 0 0 M327.494 1445.17 Q323.883 1445.17 322.054 1448.74 Q320.249 1452.28 320.249 1459.41 Q320.249 1466.51 322.054 1470.08 Q323.883 1473.62 327.494 1473.62 Q331.128 1473.62 332.934 1470.08 Q334.763 1466.51 334.763 1459.41 Q334.763 1452.28 332.934 1448.74 Q331.128 1445.17 327.494 1445.17 M327.494 1441.47 Q333.304 1441.47 336.36 1446.07 Q339.438 1450.66 339.438 1459.41 Q339.438 1468.13 336.36 1472.74 Q333.304 1477.32 327.494 1477.32 Q321.684 1477.32 318.605 1472.74 Q315.55 1468.13 315.55 1459.41 Q315.55 1450.66 318.605 1446.07 Q321.684 1441.47 327.494 1441.47 Z\" fill=\"#000000\" fill-rule=\"evenodd\" fill-opacity=\"1\" /><path clip-path=\"url(#clip930)\" d=\"M 0 0 M344.508 1470.77 L349.392 1470.77 L349.392 1476.65 L344.508 1476.65 L344.508 1470.77 Z\" fill=\"#000000\" fill-rule=\"evenodd\" fill-opacity=\"1\" /><path clip-path=\"url(#clip930)\" d=\"M 0 0 M364.461 1445.17 Q360.85 1445.17 359.022 1448.74 Q357.216 1452.28 357.216 1459.41 Q357.216 1466.51 359.022 1470.08 Q360.85 1473.62 364.461 1473.62 Q368.096 1473.62 369.901 1470.08 Q371.73 1466.51 371.73 1459.41 Q371.73 1452.28 369.901 1448.74 Q368.096 1445.17 364.461 1445.17 M364.461 1441.47 Q370.272 1441.47 373.327 1446.07 Q376.406 1450.66 376.406 1459.41 Q376.406 1468.13 373.327 1472.74 Q370.272 1477.32 364.461 1477.32 Q358.651 1477.32 355.573 1472.74 Q352.517 1468.13 352.517 1459.41 Q352.517 1450.66 355.573 1446.07 Q358.651 1441.47 364.461 1441.47 Z\" fill=\"#000000\" fill-rule=\"evenodd\" fill-opacity=\"1\" /><path clip-path=\"url(#clip930)\" d=\"M 0 0 M809.727 1472.72 L826.046 1472.72 L826.046 1476.65 L804.102 1476.65 L804.102 1472.72 Q806.764 1469.96 811.347 1465.33 Q815.953 1460.68 817.134 1459.34 Q819.379 1456.81 820.259 1455.08 Q821.162 1453.32 821.162 1451.63 Q821.162 1448.87 819.217 1447.14 Q817.296 1445.4 814.194 1445.4 Q811.995 1445.4 809.541 1446.17 Q807.111 1446.93 804.333 1448.48 L804.333 1443.76 Q807.157 1442.62 809.611 1442.05 Q812.065 1441.47 814.102 1441.47 Q819.472 1441.47 822.666 1444.15 Q825.861 1446.84 825.861 1451.33 Q825.861 1453.46 825.051 1455.38 Q824.264 1457.28 822.157 1459.87 Q821.578 1460.54 818.477 1463.76 Q815.375 1466.95 809.727 1472.72 Z\" fill=\"#000000\" fill-rule=\"evenodd\" fill-opacity=\"1\" /><path clip-path=\"url(#clip930)\" d=\"M 0 0 M831.115 1470.77 L836 1470.77 L836 1476.65 L831.115 1476.65 L831.115 1470.77 Z\" fill=\"#000000\" fill-rule=\"evenodd\" fill-opacity=\"1\" /><path clip-path=\"url(#clip930)\" d=\"M 0 0 M841.115 1442.09 L859.472 1442.09 L859.472 1446.03 L845.398 1446.03 L845.398 1454.5 Q846.416 1454.15 847.435 1453.99 Q848.453 1453.8 849.472 1453.8 Q855.259 1453.8 858.638 1456.98 Q862.018 1460.15 862.018 1465.56 Q862.018 1471.14 858.546 1474.24 Q855.074 1477.32 848.754 1477.32 Q846.578 1477.32 844.31 1476.95 Q842.064 1476.58 839.657 1475.84 L839.657 1471.14 Q841.74 1472.28 843.963 1472.83 Q846.185 1473.39 848.662 1473.39 Q852.666 1473.39 855.004 1471.28 Q857.342 1469.18 857.342 1465.56 Q857.342 1461.95 855.004 1459.85 Q852.666 1457.74 848.662 1457.74 Q846.787 1457.74 844.912 1458.16 Q843.06 1458.57 841.115 1459.45 L841.115 1442.09 Z\" fill=\"#000000\" fill-rule=\"evenodd\" fill-opacity=\"1\" /><path clip-path=\"url(#clip930)\" d=\"M 0 0 M1291.94 1442.09 L1310.29 1442.09 L1310.29 1446.03 L1296.22 1446.03 L1296.22 1454.5 Q1297.24 1454.15 1298.26 1453.99 Q1299.27 1453.8 1300.29 1453.8 Q1306.08 1453.8 1309.46 1456.98 Q1312.84 1460.15 1312.84 1465.56 Q1312.84 1471.14 1309.37 1474.24 Q1305.89 1477.32 1299.57 1477.32 Q1297.4 1477.32 1295.13 1476.95 Q1292.89 1476.58 1290.48 1475.84 L1290.48 1471.14 Q1292.56 1472.28 1294.78 1472.83 Q1297.01 1473.39 1299.48 1473.39 Q1303.49 1473.39 1305.82 1471.28 Q1308.16 1469.18 1308.16 1465.56 Q1308.16 1461.95 1305.82 1459.85 Q1303.49 1457.74 1299.48 1457.74 Q1297.61 1457.74 1295.73 1458.16 Q1293.88 1458.57 1291.94 1459.45 L1291.94 1442.09 Z\" fill=\"#000000\" fill-rule=\"evenodd\" fill-opacity=\"1\" /><path clip-path=\"url(#clip930)\" d=\"M 0 0 M1317.91 1470.77 L1322.79 1470.77 L1322.79 1476.65 L1317.91 1476.65 L1317.91 1470.77 Z\" fill=\"#000000\" fill-rule=\"evenodd\" fill-opacity=\"1\" /><path clip-path=\"url(#clip930)\" d=\"M 0 0 M1337.86 1445.17 Q1334.25 1445.17 1332.42 1448.74 Q1330.62 1452.28 1330.62 1459.41 Q1330.62 1466.51 1332.42 1470.08 Q1334.25 1473.62 1337.86 1473.62 Q1341.5 1473.62 1343.3 1470.08 Q1345.13 1466.51 1345.13 1459.41 Q1345.13 1452.28 1343.3 1448.74 Q1341.5 1445.17 1337.86 1445.17 M1337.86 1441.47 Q1343.67 1441.47 1346.73 1446.07 Q1349.81 1450.66 1349.81 1459.41 Q1349.81 1468.13 1346.73 1472.74 Q1343.67 1477.32 1337.86 1477.32 Q1332.05 1477.32 1328.97 1472.74 Q1325.92 1468.13 1325.92 1459.41 Q1325.92 1450.66 1328.97 1446.07 Q1332.05 1441.47 1337.86 1441.47 Z\" fill=\"#000000\" fill-rule=\"evenodd\" fill-opacity=\"1\" /><path clip-path=\"url(#clip930)\" d=\"M 0 0 M1778.13 1442.09 L1800.35 1442.09 L1800.35 1444.08 L1787.8 1476.65 L1782.92 1476.65 L1794.72 1446.03 L1778.13 1446.03 L1778.13 1442.09 Z\" fill=\"#000000\" fill-rule=\"evenodd\" fill-opacity=\"1\" /><path clip-path=\"url(#clip930)\" d=\"M 0 0 M1805.42 1470.77 L1810.3 1470.77 L1810.3 1476.65 L1805.42 1476.65 L1805.42 1470.77 Z\" fill=\"#000000\" fill-rule=\"evenodd\" fill-opacity=\"1\" /><path clip-path=\"url(#clip930)\" d=\"M 0 0 M1815.42 1442.09 L1833.77 1442.09 L1833.77 1446.03 L1819.7 1446.03 L1819.7 1454.5 Q1820.72 1454.15 1821.74 1453.99 Q1822.76 1453.8 1823.77 1453.8 Q1829.56 1453.8 1832.94 1456.98 Q1836.32 1460.15 1836.32 1465.56 Q1836.32 1471.14 1832.85 1474.24 Q1829.38 1477.32 1823.06 1477.32 Q1820.88 1477.32 1818.61 1476.95 Q1816.37 1476.58 1813.96 1475.84 L1813.96 1471.14 Q1816.04 1472.28 1818.27 1472.83 Q1820.49 1473.39 1822.96 1473.39 Q1826.97 1473.39 1829.31 1471.28 Q1831.65 1469.18 1831.65 1465.56 Q1831.65 1461.95 1829.31 1459.85 Q1826.97 1457.74 1822.96 1457.74 Q1821.09 1457.74 1819.21 1458.16 Q1817.36 1458.57 1815.42 1459.45 L1815.42 1442.09 Z\" fill=\"#000000\" fill-rule=\"evenodd\" fill-opacity=\"1\" /><path clip-path=\"url(#clip930)\" d=\"M 0 0 M2252.7 1472.72 L2260.34 1472.72 L2260.34 1446.35 L2252.03 1448.02 L2252.03 1443.76 L2260.29 1442.09 L2264.97 1442.09 L2264.97 1472.72 L2272.6 1472.72 L2272.6 1476.65 L2252.7 1476.65 L2252.7 1472.72 Z\" fill=\"#000000\" fill-rule=\"evenodd\" fill-opacity=\"1\" /><path clip-path=\"url(#clip930)\" d=\"M 0 0 M2287.67 1445.17 Q2284.06 1445.17 2282.23 1448.74 Q2280.43 1452.28 2280.43 1459.41 Q2280.43 1466.51 2282.23 1470.08 Q2284.06 1473.62 2287.67 1473.62 Q2291.31 1473.62 2293.11 1470.08 Q2294.94 1466.51 2294.94 1459.41 Q2294.94 1452.28 2293.11 1448.74 Q2291.31 1445.17 2287.67 1445.17 M2287.67 1441.47 Q2293.48 1441.47 2296.54 1446.07 Q2299.62 1450.66 2299.62 1459.41 Q2299.62 1468.13 2296.54 1472.74 Q2293.48 1477.32 2287.67 1477.32 Q2281.86 1477.32 2278.79 1472.74 Q2275.73 1468.13 2275.73 1459.41 Q2275.73 1450.66 2278.79 1446.07 Q2281.86 1441.47 2287.67 1441.47 Z\" fill=\"#000000\" fill-rule=\"evenodd\" fill-opacity=\"1\" /><path clip-path=\"url(#clip930)\" d=\"M 0 0 M2304.69 1470.77 L2309.57 1470.77 L2309.57 1476.65 L2304.69 1476.65 L2304.69 1470.77 Z\" fill=\"#000000\" fill-rule=\"evenodd\" fill-opacity=\"1\" /><path clip-path=\"url(#clip930)\" d=\"M 0 0 M2324.64 1445.17 Q2321.03 1445.17 2319.2 1448.74 Q2317.4 1452.28 2317.4 1459.41 Q2317.4 1466.51 2319.2 1470.08 Q2321.03 1473.62 2324.64 1473.62 Q2328.28 1473.62 2330.08 1470.08 Q2331.91 1466.51 2331.91 1459.41 Q2331.91 1452.28 2330.08 1448.74 Q2328.28 1445.17 2324.64 1445.17 M2324.64 1441.47 Q2330.45 1441.47 2333.51 1446.07 Q2336.59 1450.66 2336.59 1459.41 Q2336.59 1468.13 2333.51 1472.74 Q2330.45 1477.32 2324.64 1477.32 Q2318.83 1477.32 2315.75 1472.74 Q2312.7 1468.13 2312.7 1459.41 Q2312.7 1450.66 2315.75 1446.07 Q2318.83 1441.47 2324.64 1441.47 Z\" fill=\"#000000\" fill-rule=\"evenodd\" fill-opacity=\"1\" /><path clip-path=\"url(#clip930)\" d=\"M 0 0 M126.931 1143.05 L134.57 1143.05 L134.57 1116.68 L126.26 1118.35 L126.26 1114.09 L134.524 1112.43 L139.2 1112.43 L139.2 1143.05 L146.839 1143.05 L146.839 1146.99 L126.931 1146.99 L126.931 1143.05 Z\" fill=\"#000000\" fill-rule=\"evenodd\" fill-opacity=\"1\" /><path clip-path=\"url(#clip930)\" d=\"M 0 0 M151.908 1141.11 L156.792 1141.11 L156.792 1146.99 L151.908 1146.99 L151.908 1141.11 Z\" fill=\"#000000\" fill-rule=\"evenodd\" fill-opacity=\"1\" /><path clip-path=\"url(#clip930)\" d=\"M 0 0 M171.862 1115.5 Q168.251 1115.5 166.422 1119.07 Q164.616 1122.61 164.616 1129.74 Q164.616 1136.85 166.422 1140.41 Q168.251 1143.95 171.862 1143.95 Q175.496 1143.95 177.302 1140.41 Q179.13 1136.85 179.13 1129.74 Q179.13 1122.61 177.302 1119.07 Q175.496 1115.5 171.862 1115.5 M171.862 1111.8 Q177.672 1111.8 180.727 1116.41 Q183.806 1120.99 183.806 1129.74 Q183.806 1138.47 180.727 1143.07 Q177.672 1147.66 171.862 1147.66 Q166.052 1147.66 162.973 1143.07 Q159.917 1138.47 159.917 1129.74 Q159.917 1120.99 162.973 1116.41 Q166.052 1111.8 171.862 1111.8 Z\" fill=\"#000000\" fill-rule=\"evenodd\" fill-opacity=\"1\" /><path clip-path=\"url(#clip930)\" d=\"M 0 0 M189.686 1143.05 L197.325 1143.05 L197.325 1116.68 L189.014 1118.35 L189.014 1114.09 L197.278 1112.43 L201.954 1112.43 L201.954 1143.05 L209.593 1143.05 L209.593 1146.99 L189.686 1146.99 L189.686 1143.05 Z\" fill=\"#000000\" fill-rule=\"evenodd\" fill-opacity=\"1\" /><path clip-path=\"url(#clip930)\" d=\"M 0 0 M224.662 1130.57 Q221.329 1130.57 219.408 1132.36 Q217.51 1134.14 217.51 1137.26 Q217.51 1140.39 219.408 1142.17 Q221.329 1143.95 224.662 1143.95 Q227.996 1143.95 229.917 1142.17 Q231.838 1140.37 231.838 1137.26 Q231.838 1134.14 229.917 1132.36 Q228.019 1130.57 224.662 1130.57 M219.987 1128.58 Q216.977 1127.84 215.287 1125.78 Q213.621 1123.72 213.621 1120.76 Q213.621 1116.62 216.561 1114.21 Q219.524 1111.8 224.662 1111.8 Q229.824 1111.8 232.764 1114.21 Q235.704 1116.62 235.704 1120.76 Q235.704 1123.72 234.014 1125.78 Q232.348 1127.84 229.361 1128.58 Q232.741 1129.37 234.616 1131.66 Q236.514 1133.95 236.514 1137.26 Q236.514 1142.29 233.436 1144.97 Q230.38 1147.66 224.662 1147.66 Q218.945 1147.66 215.866 1144.97 Q212.811 1142.29 212.811 1137.26 Q212.811 1133.95 214.709 1131.66 Q216.607 1129.37 219.987 1128.58 M218.274 1121.2 Q218.274 1123.88 219.94 1125.39 Q221.63 1126.89 224.662 1126.89 Q227.672 1126.89 229.361 1125.39 Q231.074 1123.88 231.074 1121.2 Q231.074 1118.51 229.361 1117.01 Q227.672 1115.5 224.662 1115.5 Q221.63 1115.5 219.94 1117.01 Q218.274 1118.51 218.274 1121.2 Z\" fill=\"#000000\" fill-rule=\"evenodd\" fill-opacity=\"1\" /><path clip-path=\"url(#clip930)\" d=\"M 0 0 M251.584 1115.5 Q247.972 1115.5 246.144 1119.07 Q244.338 1122.61 244.338 1129.74 Q244.338 1136.85 246.144 1140.41 Q247.972 1143.95 251.584 1143.95 Q255.218 1143.95 257.023 1140.41 Q258.852 1136.85 258.852 1129.74 Q258.852 1122.61 257.023 1119.07 Q255.218 1115.5 251.584 1115.5 M251.584 1111.8 Q257.394 1111.8 260.449 1116.41 Q263.528 1120.99 263.528 1129.74 Q263.528 1138.47 260.449 1143.07 Q257.394 1147.66 251.584 1147.66 Q245.773 1147.66 242.695 1143.07 Q239.639 1138.47 239.639 1129.74 Q239.639 1120.99 242.695 1116.41 Q245.773 1111.8 251.584 1111.8 Z\" fill=\"#000000\" fill-rule=\"evenodd\" fill-opacity=\"1\" /><path clip-path=\"url(#clip930)\" d=\"M 0 0 M127.927 819.563 L135.566 819.563 L135.566 793.197 L127.256 794.864 L127.256 790.605 L135.519 788.938 L140.195 788.938 L140.195 819.563 L147.834 819.563 L147.834 823.498 L127.927 823.498 L127.927 819.563 Z\" fill=\"#000000\" fill-rule=\"evenodd\" fill-opacity=\"1\" /><path clip-path=\"url(#clip930)\" d=\"M 0 0 M152.904 817.619 L157.788 817.619 L157.788 823.498 L152.904 823.498 L152.904 817.619 Z\" fill=\"#000000\" fill-rule=\"evenodd\" fill-opacity=\"1\" /><path clip-path=\"url(#clip930)\" d=\"M 0 0 M172.857 792.017 Q169.246 792.017 167.417 795.582 Q165.612 799.123 165.612 806.253 Q165.612 813.359 167.417 816.924 Q169.246 820.466 172.857 820.466 Q176.491 820.466 178.297 816.924 Q180.126 813.359 180.126 806.253 Q180.126 799.123 178.297 795.582 Q176.491 792.017 172.857 792.017 M172.857 788.313 Q178.667 788.313 181.723 792.92 Q184.802 797.503 184.802 806.253 Q184.802 814.98 181.723 819.586 Q178.667 824.169 172.857 824.169 Q167.047 824.169 163.968 819.586 Q160.913 814.98 160.913 806.253 Q160.913 797.503 163.968 792.92 Q167.047 788.313 172.857 788.313 Z\" fill=\"#000000\" fill-rule=\"evenodd\" fill-opacity=\"1\" /><path clip-path=\"url(#clip930)\" d=\"M 0 0 M190.681 819.563 L198.32 819.563 L198.32 793.197 L190.01 794.864 L190.01 790.605 L198.274 788.938 L202.95 788.938 L202.95 819.563 L210.588 819.563 L210.588 823.498 L190.681 823.498 L190.681 819.563 Z\" fill=\"#000000\" fill-rule=\"evenodd\" fill-opacity=\"1\" /><path clip-path=\"url(#clip930)\" d=\"M 0 0 M225.658 807.086 Q222.324 807.086 220.403 808.869 Q218.505 810.651 218.505 813.776 Q218.505 816.901 220.403 818.683 Q222.324 820.466 225.658 820.466 Q228.991 820.466 230.912 818.683 Q232.834 816.878 232.834 813.776 Q232.834 810.651 230.912 808.869 Q229.014 807.086 225.658 807.086 M220.982 805.095 Q217.973 804.355 216.283 802.295 Q214.616 800.234 214.616 797.271 Q214.616 793.128 217.556 790.721 Q220.519 788.313 225.658 788.313 Q230.82 788.313 233.76 790.721 Q236.699 793.128 236.699 797.271 Q236.699 800.234 235.01 802.295 Q233.343 804.355 230.357 805.095 Q233.736 805.882 235.611 808.174 Q237.51 810.466 237.51 813.776 Q237.51 818.799 234.431 821.484 Q231.375 824.169 225.658 824.169 Q219.94 824.169 216.862 821.484 Q213.806 818.799 213.806 813.776 Q213.806 810.466 215.704 808.174 Q217.602 805.882 220.982 805.095 M219.269 797.711 Q219.269 800.396 220.936 801.901 Q222.625 803.406 225.658 803.406 Q228.667 803.406 230.357 801.901 Q232.07 800.396 232.07 797.711 Q232.07 795.026 230.357 793.521 Q228.667 792.017 225.658 792.017 Q222.625 792.017 220.936 793.521 Q219.269 795.026 219.269 797.711 Z\" fill=\"#000000\" fill-rule=\"evenodd\" fill-opacity=\"1\" /><path clip-path=\"url(#clip930)\" d=\"M 0 0 M242.625 788.938 L260.982 788.938 L260.982 792.873 L246.908 792.873 L246.908 801.345 Q247.926 800.998 248.945 800.836 Q249.963 800.651 250.982 800.651 Q256.769 800.651 260.148 803.822 Q263.528 806.994 263.528 812.41 Q263.528 817.989 260.056 821.091 Q256.584 824.169 250.264 824.169 Q248.088 824.169 245.82 823.799 Q243.574 823.429 241.167 822.688 L241.167 817.989 Q243.25 819.123 245.472 819.679 Q247.695 820.234 250.172 820.234 Q254.176 820.234 256.514 818.128 Q258.852 816.021 258.852 812.41 Q258.852 808.799 256.514 806.693 Q254.176 804.586 250.172 804.586 Q248.297 804.586 246.422 805.003 Q244.57 805.42 242.625 806.299 L242.625 788.938 Z\" fill=\"#000000\" fill-rule=\"evenodd\" fill-opacity=\"1\" /><path clip-path=\"url(#clip930)\" d=\"M 0 0 M127.024 496.076 L134.663 496.076 L134.663 469.71 L126.353 471.377 L126.353 467.118 L134.617 465.451 L139.292 465.451 L139.292 496.076 L146.931 496.076 L146.931 500.011 L127.024 500.011 L127.024 496.076 Z\" fill=\"#000000\" fill-rule=\"evenodd\" fill-opacity=\"1\" /><path clip-path=\"url(#clip930)\" d=\"M 0 0 M152.001 494.131 L156.885 494.131 L156.885 500.011 L152.001 500.011 L152.001 494.131 Z\" fill=\"#000000\" fill-rule=\"evenodd\" fill-opacity=\"1\" /><path clip-path=\"url(#clip930)\" d=\"M 0 0 M171.954 468.53 Q168.343 468.53 166.515 472.094 Q164.709 475.636 164.709 482.766 Q164.709 489.872 166.515 493.437 Q168.343 496.978 171.954 496.978 Q175.589 496.978 177.394 493.437 Q179.223 489.872 179.223 482.766 Q179.223 475.636 177.394 472.094 Q175.589 468.53 171.954 468.53 M171.954 464.826 Q177.765 464.826 180.82 469.432 Q183.899 474.016 183.899 482.766 Q183.899 491.492 180.82 496.099 Q177.765 500.682 171.954 500.682 Q166.144 500.682 163.066 496.099 Q160.01 491.492 160.01 482.766 Q160.01 474.016 163.066 469.432 Q166.144 464.826 171.954 464.826 Z\" fill=\"#000000\" fill-rule=\"evenodd\" fill-opacity=\"1\" /><path clip-path=\"url(#clip930)\" d=\"M 0 0 M189.778 496.076 L197.417 496.076 L197.417 469.71 L189.107 471.377 L189.107 467.118 L197.371 465.451 L202.047 465.451 L202.047 496.076 L209.686 496.076 L209.686 500.011 L189.778 500.011 L189.778 496.076 Z\" fill=\"#000000\" fill-rule=\"evenodd\" fill-opacity=\"1\" /><path clip-path=\"url(#clip930)\" d=\"M 0 0 M214.894 499.293 L214.894 495.034 Q216.653 495.867 218.459 496.307 Q220.264 496.747 222 496.747 Q226.63 496.747 229.061 493.645 Q231.514 490.52 231.861 484.178 Q230.519 486.168 228.459 487.233 Q226.399 488.298 223.899 488.298 Q218.713 488.298 215.681 485.173 Q212.672 482.025 212.672 476.585 Q212.672 471.261 215.82 468.043 Q218.968 464.826 224.199 464.826 Q230.195 464.826 233.343 469.432 Q236.514 474.016 236.514 482.766 Q236.514 490.937 232.625 495.821 Q228.76 500.682 222.209 500.682 Q220.449 500.682 218.644 500.335 Q216.838 499.988 214.894 499.293 M224.199 484.641 Q227.348 484.641 229.176 482.488 Q231.028 480.335 231.028 476.585 Q231.028 472.858 229.176 470.705 Q227.348 468.53 224.199 468.53 Q221.051 468.53 219.199 470.705 Q217.371 472.858 217.371 476.585 Q217.371 480.335 219.199 482.488 Q221.051 484.641 224.199 484.641 Z\" fill=\"#000000\" fill-rule=\"evenodd\" fill-opacity=\"1\" /><path clip-path=\"url(#clip930)\" d=\"M 0 0 M251.584 468.53 Q247.972 468.53 246.144 472.094 Q244.338 475.636 244.338 482.766 Q244.338 489.872 246.144 493.437 Q247.972 496.978 251.584 496.978 Q255.218 496.978 257.023 493.437 Q258.852 489.872 258.852 482.766 Q258.852 475.636 257.023 472.094 Q255.218 468.53 251.584 468.53 M251.584 464.826 Q257.394 464.826 260.449 469.432 Q263.528 474.016 263.528 482.766 Q263.528 491.492 260.449 496.099 Q257.394 500.682 251.584 500.682 Q245.773 500.682 242.695 496.099 Q239.639 491.492 239.639 482.766 Q239.639 474.016 242.695 469.432 Q245.773 464.826 251.584 464.826 Z\" fill=\"#000000\" fill-rule=\"evenodd\" fill-opacity=\"1\" /><path clip-path=\"url(#clip930)\" d=\"M 0 0 M128.019 172.588 L135.658 172.588 L135.658 146.223 L127.348 147.89 L127.348 143.63 L135.612 141.964 L140.288 141.964 L140.288 172.588 L147.927 172.588 L147.927 176.524 L128.019 176.524 L128.019 172.588 Z\" fill=\"#000000\" fill-rule=\"evenodd\" fill-opacity=\"1\" /><path clip-path=\"url(#clip930)\" d=\"M 0 0 M152.996 170.644 L157.88 170.644 L157.88 176.524 L152.996 176.524 L152.996 170.644 Z\" fill=\"#000000\" fill-rule=\"evenodd\" fill-opacity=\"1\" /><path clip-path=\"url(#clip930)\" d=\"M 0 0 M172.95 145.042 Q169.339 145.042 167.51 148.607 Q165.704 152.149 165.704 159.278 Q165.704 166.385 167.51 169.95 Q169.339 173.491 172.95 173.491 Q176.584 173.491 178.39 169.95 Q180.218 166.385 180.218 159.278 Q180.218 152.149 178.39 148.607 Q176.584 145.042 172.95 145.042 M172.95 141.339 Q178.76 141.339 181.815 145.945 Q184.894 150.528 184.894 159.278 Q184.894 168.005 181.815 172.612 Q178.76 177.195 172.95 177.195 Q167.14 177.195 164.061 172.612 Q161.005 168.005 161.005 159.278 Q161.005 150.528 164.061 145.945 Q167.14 141.339 172.95 141.339 Z\" fill=\"#000000\" fill-rule=\"evenodd\" fill-opacity=\"1\" /><path clip-path=\"url(#clip930)\" d=\"M 0 0 M190.774 172.588 L198.413 172.588 L198.413 146.223 L190.102 147.89 L190.102 143.63 L198.366 141.964 L203.042 141.964 L203.042 172.588 L210.681 172.588 L210.681 176.524 L190.774 176.524 L190.774 172.588 Z\" fill=\"#000000\" fill-rule=\"evenodd\" fill-opacity=\"1\" /><path clip-path=\"url(#clip930)\" d=\"M 0 0 M215.889 175.806 L215.889 171.547 Q217.649 172.38 219.454 172.82 Q221.26 173.26 222.996 173.26 Q227.625 173.26 230.056 170.158 Q232.51 167.033 232.857 160.69 Q231.514 162.681 229.454 163.746 Q227.394 164.811 224.894 164.811 Q219.709 164.811 216.676 161.686 Q213.667 158.538 213.667 153.098 Q213.667 147.774 216.815 144.556 Q219.963 141.339 225.195 141.339 Q231.19 141.339 234.338 145.945 Q237.51 150.528 237.51 159.278 Q237.51 167.45 233.621 172.334 Q229.755 177.195 223.204 177.195 Q221.445 177.195 219.639 176.848 Q217.834 176.5 215.889 175.806 M225.195 161.153 Q228.343 161.153 230.172 159.001 Q232.023 156.848 232.023 153.098 Q232.023 149.371 230.172 147.218 Q228.343 145.042 225.195 145.042 Q222.047 145.042 220.195 147.218 Q218.366 149.371 218.366 153.098 Q218.366 156.848 220.195 159.001 Q222.047 161.153 225.195 161.153 Z\" fill=\"#000000\" fill-rule=\"evenodd\" fill-opacity=\"1\" /><path clip-path=\"url(#clip930)\" d=\"M 0 0 M242.625 141.964 L260.982 141.964 L260.982 145.899 L246.908 145.899 L246.908 154.371 Q247.926 154.024 248.945 153.862 Q249.963 153.677 250.982 153.677 Q256.769 153.677 260.148 156.848 Q263.528 160.019 263.528 165.436 Q263.528 171.014 260.056 174.116 Q256.584 177.195 250.264 177.195 Q248.088 177.195 245.82 176.825 Q243.574 176.454 241.167 175.713 L241.167 171.014 Q243.25 172.149 245.472 172.704 Q247.695 173.26 250.172 173.26 Q254.176 173.26 256.514 171.153 Q258.852 169.047 258.852 165.436 Q258.852 161.825 256.514 159.718 Q254.176 157.612 250.172 157.612 Q248.297 157.612 246.422 158.028 Q244.57 158.445 242.625 159.325 L242.625 141.964 Z\" fill=\"#000000\" fill-rule=\"evenodd\" fill-opacity=\"1\" /><path clip-path=\"url(#clip930)\" d=\"M 0 0 M573.115 48.0275 L573.115 51.6733 L538.844 51.6733 Q539.33 59.3701 543.462 63.421 Q547.634 67.4314 555.048 67.4314 Q559.342 67.4314 563.352 66.3781 Q567.403 65.3249 571.373 63.2184 L571.373 70.267 Q567.362 71.9684 563.149 72.8596 Q558.937 73.7508 554.602 73.7508 Q543.746 73.7508 537.386 67.4314 Q531.066 61.1119 531.066 50.3365 Q531.066 39.1965 537.062 32.6746 Q543.097 26.1121 553.306 26.1121 Q562.461 26.1121 567.767 32.0264 Q573.115 37.9003 573.115 48.0275 M565.661 45.84 Q565.58 39.7232 562.218 36.0774 Q558.896 32.4315 553.387 32.4315 Q547.148 32.4315 543.381 35.9558 Q539.654 39.4801 539.087 45.8805 L565.661 45.84 Z\" fill=\"#000000\" fill-rule=\"evenodd\" fill-opacity=\"1\" /><path clip-path=\"url(#clip930)\" d=\"M 0 0 M588.144 65.7705 L588.144 89.8329 L580.649 89.8329 L580.649 27.2059 L588.144 27.2059 L588.144 34.0924 Q590.493 30.0415 594.058 28.0971 Q597.663 26.1121 602.646 26.1121 Q610.91 26.1121 616.054 32.6746 Q621.239 39.2371 621.239 49.9314 Q621.239 60.6258 616.054 67.1883 Q610.91 73.7508 602.646 73.7508 Q597.663 73.7508 594.058 71.8063 Q590.493 69.8214 588.144 65.7705 M613.502 49.9314 Q613.502 41.7081 610.099 37.0496 Q606.737 32.3505 600.823 32.3505 Q594.909 32.3505 591.506 37.0496 Q588.144 41.7081 588.144 49.9314 Q588.144 58.1548 591.506 62.8538 Q594.909 67.5124 600.823 67.5124 Q606.737 67.5124 610.099 62.8538 Q613.502 58.1548 613.502 49.9314 Z\" fill=\"#000000\" fill-rule=\"evenodd\" fill-opacity=\"1\" /><path clip-path=\"url(#clip930)\" d=\"M 0 0 M646.639 32.4315 Q640.643 32.4315 637.159 37.1306 Q633.676 41.7891 633.676 49.9314 Q633.676 58.0738 637.119 62.7728 Q640.603 67.4314 646.639 67.4314 Q652.593 67.4314 656.077 62.7323 Q659.561 58.0333 659.561 49.9314 Q659.561 41.8701 656.077 37.1711 Q652.593 32.4315 646.639 32.4315 M646.639 26.1121 Q656.361 26.1121 661.91 32.4315 Q667.46 38.7509 667.46 49.9314 Q667.46 61.0714 661.91 67.4314 Q656.361 73.7508 646.639 73.7508 Q636.876 73.7508 631.326 67.4314 Q625.817 61.0714 625.817 49.9314 Q625.817 38.7509 631.326 32.4315 Q636.876 26.1121 646.639 26.1121 Z\" fill=\"#000000\" fill-rule=\"evenodd\" fill-opacity=\"1\" /><path clip-path=\"url(#clip930)\" d=\"M 0 0 M707.929 28.9478 L707.929 35.9153 Q704.769 34.1734 701.569 33.3227 Q698.409 32.4315 695.168 32.4315 Q687.917 32.4315 683.907 37.0496 Q679.897 41.6271 679.897 49.9314 Q679.897 58.2358 683.907 62.8538 Q687.917 67.4314 695.168 67.4314 Q698.409 67.4314 701.569 66.5807 Q704.769 65.6895 707.929 63.9476 L707.929 70.8341 Q704.81 72.2924 701.447 73.0216 Q698.126 73.7508 694.358 73.7508 Q684.109 73.7508 678.074 67.3098 Q672.038 60.8689 672.038 49.9314 Q672.038 38.832 678.114 32.472 Q684.231 26.1121 694.844 26.1121 Q698.288 26.1121 701.569 26.8413 Q704.85 27.5299 707.929 28.9478 Z\" fill=\"#000000\" fill-rule=\"evenodd\" fill-opacity=\"1\" /><path clip-path=\"url(#clip930)\" d=\"M 0 0 M753.461 45.1919 L753.461 72.576 L746.007 72.576 L746.007 45.4349 Q746.007 38.994 743.496 35.7938 Q740.984 32.5936 735.961 32.5936 Q729.925 32.5936 726.441 36.4419 Q722.958 40.2903 722.958 46.9338 L722.958 72.576 L715.463 72.576 L715.463 9.54393 L722.958 9.54393 L722.958 34.2544 Q725.631 30.163 729.237 28.1376 Q732.882 26.1121 737.622 26.1121 Q745.44 26.1121 749.451 30.9732 Q753.461 35.7938 753.461 45.1919 Z\" fill=\"#000000\" fill-rule=\"evenodd\" fill-opacity=\"1\" /><path clip-path=\"url(#clip930)\" d=\"M 0 0 M790.203 28.5427 L790.203 35.5912 Q787.043 33.9709 783.64 33.1607 Q780.237 32.3505 776.592 32.3505 Q771.042 32.3505 768.247 34.0519 Q765.492 35.7533 765.492 39.156 Q765.492 41.7486 767.477 43.2475 Q769.462 44.7058 775.457 46.0426 L778.009 46.6097 Q785.949 48.3111 789.271 51.4303 Q792.633 54.509 792.633 60.0587 Q792.633 66.3781 787.61 70.0644 Q782.627 73.7508 773.877 73.7508 Q770.232 73.7508 766.262 73.0216 Q762.332 72.3329 757.957 70.9151 L757.957 63.2184 Q762.089 65.3654 766.1 66.4591 Q770.11 67.5124 774.04 67.5124 Q779.306 67.5124 782.141 65.73 Q784.977 63.9071 784.977 60.6258 Q784.977 57.5877 782.911 55.9673 Q780.886 54.3469 773.959 52.8481 L771.366 52.2405 Q764.439 50.7821 761.36 47.7845 Q758.282 44.7463 758.282 39.4801 Q758.282 33.0797 762.819 29.5959 Q767.356 26.1121 775.7 26.1121 Q779.832 26.1121 783.478 26.7198 Q787.124 27.3274 790.203 28.5427 Z\" fill=\"#000000\" fill-rule=\"evenodd\" fill-opacity=\"1\" /><path clip-path=\"url(#clip930)\" d=\"M 0 0 M827.795 34.9026 L879.728 34.9026 L879.728 41.7081 L827.795 41.7081 L827.795 34.9026 M827.795 51.4303 L879.728 51.4303 L879.728 58.3168 L827.795 58.3168 L827.795 51.4303 Z\" fill=\"#000000\" fill-rule=\"evenodd\" fill-opacity=\"1\" /><path clip-path=\"url(#clip930)\" d=\"M 0 0 M916.388 65.6895 L929.756 65.6895 L929.756 19.5497 L915.214 22.4663 L915.214 15.0127 L929.675 12.096 L937.858 12.096 L937.858 65.6895 L951.226 65.6895 L951.226 72.576 L916.388 72.576 L916.388 65.6895 Z\" fill=\"#000000\" fill-rule=\"evenodd\" fill-opacity=\"1\" /><path clip-path=\"url(#clip930)\" d=\"M 0 0 M977.597 17.4837 Q971.278 17.4837 968.078 23.7221 Q964.918 29.92 964.918 42.3968 Q964.918 54.833 968.078 61.0714 Q971.278 67.2693 977.597 67.2693 Q983.957 67.2693 987.117 61.0714 Q990.317 54.833 990.317 42.3968 Q990.317 29.92 987.117 23.7221 Q983.957 17.4837 977.597 17.4837 M977.597 11.0023 Q987.765 11.0023 993.112 19.0636 Q998.5 27.0843 998.5 42.3968 Q998.5 57.6687 993.112 65.73 Q987.765 73.7508 977.597 73.7508 Q967.43 73.7508 962.042 65.73 Q956.695 57.6687 956.695 42.3968 Q956.695 27.0843 962.042 19.0636 Q967.43 11.0023 977.597 11.0023 Z\" fill=\"#000000\" fill-rule=\"evenodd\" fill-opacity=\"1\" /><path clip-path=\"url(#clip930)\" d=\"M 0 0 M1008.22 62.2867 L1016.77 62.2867 L1016.77 69.2543 L1010.13 82.2172 L1004.9 82.2172 L1008.22 69.2543 L1008.22 62.2867 Z\" fill=\"#000000\" fill-rule=\"evenodd\" fill-opacity=\"1\" /><path clip-path=\"url(#clip930)\" d=\"M 0 0 M1083.53 49.9314 Q1083.53 41.7081 1080.13 37.0496 Q1076.76 32.3505 1070.85 32.3505 Q1064.93 32.3505 1061.53 37.0496 Q1058.17 41.7081 1058.17 49.9314 Q1058.17 58.1548 1061.53 62.8538 Q1064.93 67.5124 1070.85 67.5124 Q1076.76 67.5124 1080.13 62.8538 Q1083.53 58.1548 1083.53 49.9314 M1058.17 34.0924 Q1060.52 30.0415 1064.08 28.0971 Q1067.69 26.1121 1072.67 26.1121 Q1080.94 26.1121 1086.08 32.6746 Q1091.27 39.2371 1091.27 49.9314 Q1091.27 60.6258 1086.08 67.1883 Q1080.94 73.7508 1072.67 73.7508 Q1067.69 73.7508 1064.08 71.8063 Q1060.52 69.8214 1058.17 65.7705 L1058.17 72.576 L1050.68 72.576 L1050.68 9.54393 L1058.17 9.54393 L1058.17 34.0924 Z\" fill=\"#000000\" fill-rule=\"evenodd\" fill-opacity=\"1\" /><path clip-path=\"url(#clip930)\" d=\"M 0 0 M1119.7 49.7694 Q1110.67 49.7694 1107.19 51.8354 Q1103.7 53.9013 1103.7 58.8839 Q1103.7 62.8538 1106.29 65.2034 Q1108.93 67.5124 1113.42 67.5124 Q1119.62 67.5124 1123.35 63.1374 Q1127.12 58.7219 1127.12 51.4303 L1127.12 49.7694 L1119.7 49.7694 M1134.57 46.6907 L1134.57 72.576 L1127.12 72.576 L1127.12 65.6895 Q1124.56 69.8214 1120.76 71.8063 Q1116.95 73.7508 1111.44 73.7508 Q1104.47 73.7508 1100.34 69.8619 Q1096.25 65.9325 1096.25 59.3701 Q1096.25 51.7138 1101.35 47.825 Q1106.5 43.9361 1116.67 43.9361 L1127.12 43.9361 L1127.12 43.2069 Q1127.12 38.0623 1123.71 35.2672 Q1120.35 32.4315 1114.23 32.4315 Q1110.35 32.4315 1106.66 33.3632 Q1102.97 34.295 1099.57 36.1584 L1099.57 29.2718 Q1103.66 27.692 1107.51 26.9223 Q1111.36 26.1121 1115 26.1121 Q1124.85 26.1121 1129.71 31.2163 Q1134.57 36.3204 1134.57 46.6907 Z\" fill=\"#000000\" fill-rule=\"evenodd\" fill-opacity=\"1\" /><path clip-path=\"url(#clip930)\" d=\"M 0 0 M1149.76 14.324 L1149.76 27.2059 L1165.11 27.2059 L1165.11 32.9987 L1149.76 32.9987 L1149.76 57.6282 Q1149.76 63.1779 1151.26 64.7578 Q1152.8 66.3376 1157.46 66.3376 L1165.11 66.3376 L1165.11 72.576 L1157.46 72.576 Q1148.83 72.576 1145.55 69.3758 Q1142.27 66.1351 1142.27 57.6282 L1142.27 32.9987 L1136.8 32.9987 L1136.8 27.2059 L1142.27 27.2059 L1142.27 14.324 L1149.76 14.324 Z\" fill=\"#000000\" fill-rule=\"evenodd\" fill-opacity=\"1\" /><path clip-path=\"url(#clip930)\" d=\"M 0 0 M1205.58 28.9478 L1205.58 35.9153 Q1202.42 34.1734 1199.22 33.3227 Q1196.06 32.4315 1192.82 32.4315 Q1185.57 32.4315 1181.56 37.0496 Q1177.55 41.6271 1177.55 49.9314 Q1177.55 58.2358 1181.56 62.8538 Q1185.57 67.4314 1192.82 67.4314 Q1196.06 67.4314 1199.22 66.5807 Q1202.42 65.6895 1205.58 63.9476 L1205.58 70.8341 Q1202.46 72.2924 1199.1 73.0216 Q1195.78 73.7508 1192.01 73.7508 Q1181.76 73.7508 1175.73 67.3098 Q1169.69 60.8689 1169.69 49.9314 Q1169.69 38.832 1175.77 32.472 Q1181.88 26.1121 1192.5 26.1121 Q1195.94 26.1121 1199.22 26.8413 Q1202.5 27.5299 1205.58 28.9478 Z\" fill=\"#000000\" fill-rule=\"evenodd\" fill-opacity=\"1\" /><path clip-path=\"url(#clip930)\" d=\"M 0 0 M1251.11 45.1919 L1251.11 72.576 L1243.66 72.576 L1243.66 45.4349 Q1243.66 38.994 1241.15 35.7938 Q1238.64 32.5936 1233.61 32.5936 Q1227.58 32.5936 1224.09 36.4419 Q1220.61 40.2903 1220.61 46.9338 L1220.61 72.576 L1213.12 72.576 L1213.12 9.54393 L1220.61 9.54393 L1220.61 34.2544 Q1223.28 30.163 1226.89 28.1376 Q1230.54 26.1121 1235.28 26.1121 Q1243.09 26.1121 1247.1 30.9732 Q1251.11 35.7938 1251.11 45.1919 Z\" fill=\"#000000\" fill-rule=\"evenodd\" fill-opacity=\"1\" /><path clip-path=\"url(#clip930)\" d=\"M 0 0 M1314.23 28.5427 L1314.23 35.5912 Q1311.07 33.9709 1307.67 33.1607 Q1304.26 32.3505 1300.62 32.3505 Q1295.07 32.3505 1292.27 34.0519 Q1289.52 35.7533 1289.52 39.156 Q1289.52 41.7486 1291.5 43.2475 Q1293.49 44.7058 1299.48 46.0426 L1302.03 46.6097 Q1309.97 48.3111 1313.3 51.4303 Q1316.66 54.509 1316.66 60.0587 Q1316.66 66.3781 1311.64 70.0644 Q1306.65 73.7508 1297.9 73.7508 Q1294.26 73.7508 1290.29 73.0216 Q1286.36 72.3329 1281.98 70.9151 L1281.98 63.2184 Q1286.11 65.3654 1290.12 66.4591 Q1294.14 67.5124 1298.06 67.5124 Q1303.33 67.5124 1306.17 65.73 Q1309 63.9071 1309 60.6258 Q1309 57.5877 1306.94 55.9673 Q1304.91 54.3469 1297.98 52.8481 L1295.39 52.2405 Q1288.46 50.7821 1285.39 47.7845 Q1282.31 44.7463 1282.31 39.4801 Q1282.31 33.0797 1286.84 29.5959 Q1291.38 26.1121 1299.73 26.1121 Q1303.86 26.1121 1307.5 26.7198 Q1311.15 27.3274 1314.23 28.5427 Z\" fill=\"#000000\" fill-rule=\"evenodd\" fill-opacity=\"1\" /><path clip-path=\"url(#clip930)\" d=\"M 0 0 M1324.48 27.2059 L1331.93 27.2059 L1331.93 72.576 L1324.48 72.576 L1324.48 27.2059 M1324.48 9.54393 L1331.93 9.54393 L1331.93 18.9825 L1324.48 18.9825 L1324.48 9.54393 Z\" fill=\"#000000\" fill-rule=\"evenodd\" fill-opacity=\"1\" /><path clip-path=\"url(#clip930)\" d=\"M 0 0 M1336.51 27.2059 L1371.91 27.2059 L1371.91 34.0114 L1343.88 66.6212 L1371.91 66.6212 L1371.91 72.576 L1335.49 72.576 L1335.49 65.7705 L1363.53 33.1607 L1336.51 33.1607 L1336.51 27.2059 Z\" fill=\"#000000\" fill-rule=\"evenodd\" fill-opacity=\"1\" /><path clip-path=\"url(#clip930)\" d=\"M 0 0 M1418.54 48.0275 L1418.54 51.6733 L1384.27 51.6733 Q1384.75 59.3701 1388.89 63.421 Q1393.06 67.4314 1400.47 67.4314 Q1404.77 67.4314 1408.78 66.3781 Q1412.83 65.3249 1416.8 63.2184 L1416.8 70.267 Q1412.79 71.9684 1408.57 72.8596 Q1404.36 73.7508 1400.03 73.7508 Q1389.17 73.7508 1382.81 67.4314 Q1376.49 61.1119 1376.49 50.3365 Q1376.49 39.1965 1382.49 32.6746 Q1388.52 26.1121 1398.73 26.1121 Q1407.88 26.1121 1413.19 32.0264 Q1418.54 37.9003 1418.54 48.0275 M1411.08 45.84 Q1411 39.7232 1407.64 36.0774 Q1404.32 32.4315 1398.81 32.4315 Q1392.57 32.4315 1388.8 35.9558 Q1385.08 39.4801 1384.51 45.8805 L1411.08 45.84 Z\" fill=\"#000000\" fill-rule=\"evenodd\" fill-opacity=\"1\" /><path clip-path=\"url(#clip930)\" d=\"M 0 0 M1453.7 34.9026 L1505.63 34.9026 L1505.63 41.7081 L1453.7 41.7081 L1453.7 34.9026 M1453.7 51.4303 L1505.63 51.4303 L1505.63 58.3168 L1453.7 58.3168 L1453.7 51.4303 Z\" fill=\"#000000\" fill-rule=\"evenodd\" fill-opacity=\"1\" /><path clip-path=\"url(#clip930)\" d=\"M 0 0 M1542.29 65.6895 L1555.66 65.6895 L1555.66 19.5497 L1541.12 22.4663 L1541.12 15.0127 L1555.58 12.096 L1563.76 12.096 L1563.76 65.6895 L1577.13 65.6895 L1577.13 72.576 L1542.29 72.576 L1542.29 65.6895 Z\" fill=\"#000000\" fill-rule=\"evenodd\" fill-opacity=\"1\" /><path clip-path=\"url(#clip930)\" d=\"M 0 0 M1603.5 17.4837 Q1597.18 17.4837 1593.98 23.7221 Q1590.82 29.92 1590.82 42.3968 Q1590.82 54.833 1593.98 61.0714 Q1597.18 67.2693 1603.5 67.2693 Q1609.86 67.2693 1613.02 61.0714 Q1616.22 54.833 1616.22 42.3968 Q1616.22 29.92 1613.02 23.7221 Q1609.86 17.4837 1603.5 17.4837 M1603.5 11.0023 Q1613.67 11.0023 1619.02 19.0636 Q1624.41 27.0843 1624.41 42.3968 Q1624.41 57.6687 1619.02 65.73 Q1613.67 73.7508 1603.5 73.7508 Q1593.33 73.7508 1587.95 65.73 Q1582.6 57.6687 1582.6 42.3968 Q1582.6 27.0843 1587.95 19.0636 Q1593.33 11.0023 1603.5 11.0023 Z\" fill=\"#000000\" fill-rule=\"evenodd\" fill-opacity=\"1\" /><path clip-path=\"url(#clip930)\" d=\"M 0 0 M1634.13 62.2867 L1642.67 62.2867 L1642.67 69.2543 L1636.03 82.2172 L1630.81 82.2172 L1634.13 69.2543 L1634.13 62.2867 Z\" fill=\"#000000\" fill-rule=\"evenodd\" fill-opacity=\"1\" /><path clip-path=\"url(#clip930)\" d=\"M 0 0 M1715.67 48.0275 L1715.67 51.6733 L1681.4 51.6733 Q1681.89 59.3701 1686.02 63.421 Q1690.19 67.4314 1697.61 67.4314 Q1701.9 67.4314 1705.91 66.3781 Q1709.96 65.3249 1713.93 63.2184 L1713.93 70.267 Q1709.92 71.9684 1705.71 72.8596 Q1701.49 73.7508 1697.16 73.7508 Q1686.3 73.7508 1679.94 67.4314 Q1673.62 61.1119 1673.62 50.3365 Q1673.62 39.1965 1679.62 32.6746 Q1685.66 26.1121 1695.86 26.1121 Q1705.02 26.1121 1710.33 32.0264 Q1715.67 37.9003 1715.67 48.0275 M1708.22 45.84 Q1708.14 39.7232 1704.78 36.0774 Q1701.45 32.4315 1695.94 32.4315 Q1689.71 32.4315 1685.94 35.9558 Q1682.21 39.4801 1681.64 45.8805 L1708.22 45.84 Z\" fill=\"#000000\" fill-rule=\"evenodd\" fill-opacity=\"1\" /><path clip-path=\"url(#clip930)\" d=\"M 0 0 M1730.86 14.324 L1730.86 27.2059 L1746.22 27.2059 L1746.22 32.9987 L1730.86 32.9987 L1730.86 57.6282 Q1730.86 63.1779 1732.36 64.7578 Q1733.9 66.3376 1738.56 66.3376 L1746.22 66.3376 L1746.22 72.576 L1738.56 72.576 Q1729.93 72.576 1726.65 69.3758 Q1723.37 66.1351 1723.37 57.6282 L1723.37 32.9987 L1717.9 32.9987 L1717.9 27.2059 L1723.37 27.2059 L1723.37 14.324 L1730.86 14.324 Z\" fill=\"#000000\" fill-rule=\"evenodd\" fill-opacity=\"1\" /><path clip-path=\"url(#clip930)\" d=\"M 0 0 M1774.65 49.7694 Q1765.62 49.7694 1762.14 51.8354 Q1758.65 53.9013 1758.65 58.8839 Q1758.65 62.8538 1761.24 65.2034 Q1763.88 67.5124 1768.37 67.5124 Q1774.57 67.5124 1778.3 63.1374 Q1782.07 58.7219 1782.07 51.4303 L1782.07 49.7694 L1774.65 49.7694 M1789.52 46.6907 L1789.52 72.576 L1782.07 72.576 L1782.07 65.6895 Q1779.51 69.8214 1775.71 71.8063 Q1771.9 73.7508 1766.39 73.7508 Q1759.42 73.7508 1755.29 69.8619 Q1751.2 65.9325 1751.2 59.3701 Q1751.2 51.7138 1756.3 47.825 Q1761.45 43.9361 1771.62 43.9361 L1782.07 43.9361 L1782.07 43.2069 Q1782.07 38.0623 1778.66 35.2672 Q1775.3 32.4315 1769.18 32.4315 Q1765.3 32.4315 1761.61 33.3632 Q1757.92 34.295 1754.52 36.1584 L1754.52 29.2718 Q1758.61 27.692 1762.46 26.9223 Q1766.31 26.1121 1769.95 26.1121 Q1779.8 26.1121 1784.66 31.2163 Q1789.52 36.3204 1789.52 46.6907 Z\" fill=\"#000000\" fill-rule=\"evenodd\" fill-opacity=\"1\" /><path clip-path=\"url(#clip930)\" d=\"M 0 0 M1824.68 34.9026 L1876.61 34.9026 L1876.61 41.7081 L1824.68 41.7081 L1824.68 34.9026 M1824.68 51.4303 L1876.61 51.4303 L1876.61 58.3168 L1824.68 58.3168 L1824.68 51.4303 Z\" fill=\"#000000\" fill-rule=\"evenodd\" fill-opacity=\"1\" /><path clip-path=\"url(#clip930)\" d=\"M 0 0 M1929.36 17.4837 Q1923.04 17.4837 1919.84 23.7221 Q1916.68 29.92 1916.68 42.3968 Q1916.68 54.833 1919.84 61.0714 Q1923.04 67.2693 1929.36 67.2693 Q1935.72 67.2693 1938.88 61.0714 Q1942.08 54.833 1942.08 42.3968 Q1942.08 29.92 1938.88 23.7221 Q1935.72 17.4837 1929.36 17.4837 M1929.36 11.0023 Q1939.53 11.0023 1944.87 19.0636 Q1950.26 27.0843 1950.26 42.3968 Q1950.26 57.6687 1944.87 65.73 Q1939.53 73.7508 1929.36 73.7508 Q1919.19 73.7508 1913.8 65.73 Q1908.45 57.6687 1908.45 42.3968 Q1908.45 27.0843 1913.8 19.0636 Q1919.19 11.0023 1929.36 11.0023 Z\" fill=\"#000000\" fill-rule=\"evenodd\" fill-opacity=\"1\" /><path clip-path=\"url(#clip930)\" d=\"M 0 0 M1959.13 62.2867 L1967.68 62.2867 L1967.68 72.576 L1959.13 72.576 L1959.13 62.2867 Z\" fill=\"#000000\" fill-rule=\"evenodd\" fill-opacity=\"1\" /><path clip-path=\"url(#clip930)\" d=\"M 0 0 M1994.05 17.4837 Q1987.73 17.4837 1984.53 23.7221 Q1981.37 29.92 1981.37 42.3968 Q1981.37 54.833 1984.53 61.0714 Q1987.73 67.2693 1994.05 67.2693 Q2000.41 67.2693 2003.57 61.0714 Q2006.77 54.833 2006.77 42.3968 Q2006.77 29.92 2003.57 23.7221 Q2000.41 17.4837 1994.05 17.4837 M1994.05 11.0023 Q2004.22 11.0023 2009.57 19.0636 Q2014.95 27.0843 2014.95 42.3968 Q2014.95 57.6687 2009.57 65.73 Q2004.22 73.7508 1994.05 73.7508 Q1983.88 73.7508 1978.49 65.73 Q1973.15 57.6687 1973.15 42.3968 Q1973.15 27.0843 1978.49 19.0636 Q1983.88 11.0023 1994.05 11.0023 Z\" fill=\"#000000\" fill-rule=\"evenodd\" fill-opacity=\"1\" /><path clip-path=\"url(#clip930)\" d=\"M 0 0 M2048.62 39.9662 Q2054.49 41.222 2057.77 45.1919 Q2061.09 49.1618 2061.09 54.9951 Q2061.09 63.9476 2054.94 68.8492 Q2048.78 73.7508 2037.44 73.7508 Q2033.63 73.7508 2029.58 72.9811 Q2025.57 72.2519 2021.27 70.7531 L2021.27 62.8538 Q2024.68 64.8388 2028.73 65.8515 Q2032.78 66.8642 2037.19 66.8642 Q2044.89 66.8642 2048.9 63.826 Q2052.95 60.7879 2052.95 54.9951 Q2052.95 49.6479 2049.18 46.6502 Q2045.46 43.612 2038.77 43.612 L2031.72 43.612 L2031.72 36.8875 L2039.1 36.8875 Q2045.13 36.8875 2048.33 34.4975 Q2051.53 32.067 2051.53 27.5299 Q2051.53 22.8714 2048.21 20.4004 Q2044.93 17.8888 2038.77 17.8888 Q2035.41 17.8888 2031.56 18.618 Q2027.71 19.3471 2023.1 20.8865 L2023.1 13.5948 Q2027.75 12.2985 2031.8 11.6504 Q2035.9 11.0023 2039.5 11.0023 Q2048.82 11.0023 2054.25 15.2557 Q2059.67 19.4686 2059.67 26.6793 Q2059.67 31.7024 2056.8 35.1862 Q2053.92 38.6294 2048.62 39.9662 Z\" fill=\"#000000\" fill-rule=\"evenodd\" fill-opacity=\"1\" /><path clip-path=\"url(#clip930)\" d=\"M 0 0 M2092.45 19.2256 L2071.79 51.5113 L2092.45 51.5113 L2092.45 19.2256 M2090.3 12.096 L2100.59 12.096 L2100.59 51.5113 L2109.22 51.5113 L2109.22 58.3168 L2100.59 58.3168 L2100.59 72.576 L2092.45 72.576 L2092.45 58.3168 L2065.14 58.3168 L2065.14 50.4176 L2090.3 12.096 Z\" fill=\"#000000\" fill-rule=\"evenodd\" fill-opacity=\"1\" /><path clip-path=\"url(#clip930)\" d=\"M 0 0 M1218.59 1508.52 L1248.64 1508.52 L1248.64 1513.93 L1225.02 1513.93 L1225.02 1528 L1247.65 1528 L1247.65 1533.41 L1225.02 1533.41 L1225.02 1550.63 L1249.21 1550.63 L1249.21 1556.04 L1218.59 1556.04 L1218.59 1508.52 Z\" fill=\"#000000\" fill-rule=\"evenodd\" fill-opacity=\"1\" /><path clip-path=\"url(#clip930)\" d=\"M 0 0 M1261.02 1550.7 L1261.02 1569.6 L1255.13 1569.6 L1255.13 1520.4 L1261.02 1520.4 L1261.02 1525.81 Q1262.87 1522.62 1265.67 1521.1 Q1268.5 1519.54 1272.42 1519.54 Q1278.91 1519.54 1282.95 1524.69 Q1287.02 1529.85 1287.02 1538.25 Q1287.02 1546.65 1282.95 1551.81 Q1278.91 1556.97 1272.42 1556.97 Q1268.5 1556.97 1265.67 1555.44 Q1262.87 1553.88 1261.02 1550.7 M1280.95 1538.25 Q1280.95 1531.79 1278.27 1528.13 Q1275.63 1524.44 1270.98 1524.44 Q1266.34 1524.44 1263.66 1528.13 Q1261.02 1531.79 1261.02 1538.25 Q1261.02 1544.71 1263.66 1548.4 Q1266.34 1552.07 1270.98 1552.07 Q1275.63 1552.07 1278.27 1548.4 Q1280.95 1544.71 1280.95 1538.25 Z\" fill=\"#000000\" fill-rule=\"evenodd\" fill-opacity=\"1\" /><path clip-path=\"url(#clip930)\" d=\"M 0 0 M1306.98 1524.5 Q1302.27 1524.5 1299.53 1528.19 Q1296.8 1531.85 1296.8 1538.25 Q1296.8 1544.65 1299.5 1548.34 Q1302.24 1552 1306.98 1552 Q1311.66 1552 1314.4 1548.31 Q1317.13 1544.62 1317.13 1538.25 Q1317.13 1531.92 1314.4 1528.23 Q1311.66 1524.5 1306.98 1524.5 M1306.98 1519.54 Q1314.62 1519.54 1318.98 1524.5 Q1323.34 1529.47 1323.34 1538.25 Q1323.34 1547 1318.98 1552 Q1314.62 1556.97 1306.98 1556.97 Q1299.31 1556.97 1294.95 1552 Q1290.62 1547 1290.62 1538.25 Q1290.62 1529.47 1294.95 1524.5 Q1299.31 1519.54 1306.98 1519.54 Z\" fill=\"#000000\" fill-rule=\"evenodd\" fill-opacity=\"1\" /><path clip-path=\"url(#clip930)\" d=\"M 0 0 M1355.14 1521.76 L1355.14 1527.24 Q1352.65 1525.87 1350.14 1525.2 Q1347.66 1524.5 1345.11 1524.5 Q1339.41 1524.5 1336.26 1528.13 Q1333.11 1531.73 1333.11 1538.25 Q1333.11 1544.78 1336.26 1548.4 Q1339.41 1552 1345.11 1552 Q1347.66 1552 1350.14 1551.33 Q1352.65 1550.63 1355.14 1549.26 L1355.14 1554.68 Q1352.69 1555.82 1350.04 1556.39 Q1347.43 1556.97 1344.47 1556.97 Q1336.42 1556.97 1331.68 1551.91 Q1326.94 1546.85 1326.94 1538.25 Q1326.94 1529.53 1331.71 1524.53 Q1336.52 1519.54 1344.86 1519.54 Q1347.56 1519.54 1350.14 1520.11 Q1352.72 1520.65 1355.14 1521.76 Z\" fill=\"#000000\" fill-rule=\"evenodd\" fill-opacity=\"1\" /><path clip-path=\"url(#clip930)\" d=\"M 0 0 M1390.91 1534.53 L1390.91 1556.04 L1385.06 1556.04 L1385.06 1534.72 Q1385.06 1529.66 1383.08 1527.14 Q1381.11 1524.63 1377.16 1524.63 Q1372.42 1524.63 1369.68 1527.65 Q1366.95 1530.68 1366.95 1535.9 L1366.95 1556.04 L1361.06 1556.04 L1361.06 1506.52 L1366.95 1506.52 L1366.95 1525.93 Q1369.05 1522.72 1371.88 1521.13 Q1374.74 1519.54 1378.47 1519.54 Q1384.61 1519.54 1387.76 1523.36 Q1390.91 1527.14 1390.91 1534.53 Z\" fill=\"#000000\" fill-rule=\"evenodd\" fill-opacity=\"1\" /><path clip-path=\"url(#clip930)\" d=\"M 0 0 M1419.78 1521.45 L1419.78 1526.98 Q1417.3 1525.71 1414.62 1525.07 Q1411.95 1524.44 1409.09 1524.44 Q1404.73 1524.44 1402.53 1525.77 Q1400.37 1527.11 1400.37 1529.79 Q1400.37 1531.82 1401.93 1533 Q1403.48 1534.15 1408.2 1535.2 L1410.2 1535.64 Q1416.44 1536.98 1419.05 1539.43 Q1421.69 1541.85 1421.69 1546.21 Q1421.69 1551.17 1417.74 1554.07 Q1413.83 1556.97 1406.95 1556.97 Q1404.09 1556.97 1400.97 1556.39 Q1397.88 1555.85 1394.45 1554.74 L1394.45 1548.69 Q1397.69 1550.38 1400.84 1551.24 Q1403.99 1552.07 1407.08 1552.07 Q1411.22 1552.07 1413.45 1550.66 Q1415.68 1549.23 1415.68 1546.65 Q1415.68 1544.27 1414.05 1542.99 Q1412.46 1541.72 1407.02 1540.54 L1404.98 1540.07 Q1399.54 1538.92 1397.12 1536.56 Q1394.7 1534.18 1394.7 1530.04 Q1394.7 1525.01 1398.27 1522.27 Q1401.83 1519.54 1408.39 1519.54 Q1411.63 1519.54 1414.5 1520.01 Q1417.36 1520.49 1419.78 1521.45 Z\" fill=\"#000000\" fill-rule=\"evenodd\" fill-opacity=\"1\" /><path clip-path=\"url(#clip930)\" d=\"M 0 0 M44.1444 799.712 L50.9239 799.712 Q47.9002 802.958 46.4043 806.65 Q44.9083 810.311 44.9083 814.448 Q44.9083 822.597 49.9054 826.925 Q54.8707 831.254 64.2919 831.254 Q73.6813 831.254 78.6784 826.925 Q83.6436 822.597 83.6436 814.448 Q83.6436 810.311 82.1477 806.65 Q80.6518 802.958 77.6281 799.712 L84.3439 799.712 Q86.6355 803.086 87.7814 806.873 Q88.9272 810.629 88.9272 814.83 Q88.9272 825.62 82.3387 831.827 Q75.7183 838.033 64.2919 838.033 Q52.8336 838.033 46.2451 831.827 Q39.6248 825.62 39.6248 814.83 Q39.6248 810.565 40.7706 806.81 Q41.8846 803.022 44.1444 799.712 Z\" fill=\"#000000\" fill-rule=\"evenodd\" fill-opacity=\"1\" /><path clip-path=\"url(#clip930)\" d=\"M 0 0 M56.4621 779.755 Q56.4621 784.466 60.1542 787.203 Q63.8145 789.94 70.212 789.94 Q76.6095 789.94 80.3017 787.235 Q83.9619 784.498 83.9619 779.755 Q83.9619 775.077 80.2698 772.339 Q76.5777 769.602 70.212 769.602 Q63.8781 769.602 60.186 772.339 Q56.4621 775.077 56.4621 779.755 M51.4968 779.755 Q51.4968 772.116 56.4621 767.756 Q61.4273 763.395 70.212 763.395 Q78.9649 763.395 83.9619 767.756 Q88.9272 772.116 88.9272 779.755 Q88.9272 787.426 83.9619 791.787 Q78.9649 796.115 70.212 796.115 Q61.4273 796.115 56.4621 791.787 Q51.4968 787.426 51.4968 779.755 Z\" fill=\"#000000\" fill-rule=\"evenodd\" fill-opacity=\"1\" /><path clip-path=\"url(#clip930)\" d=\"M 0 0 M53.4065 734.527 L58.9447 734.527 Q57.6716 737.01 57.035 739.683 Q56.3984 742.357 56.3984 745.221 Q56.3984 749.582 57.7352 751.778 Q59.072 753.942 61.7456 753.942 Q63.7826 753.942 64.9603 752.383 Q66.1061 750.823 67.1565 746.113 L67.6021 744.107 Q68.9389 737.869 71.3897 735.259 Q73.8086 732.617 78.1691 732.617 Q83.1344 732.617 86.0308 736.564 Q88.9272 740.479 88.9272 747.354 Q88.9272 750.218 88.3543 753.338 Q87.8132 756.425 86.6992 759.863 L80.6518 759.863 Q82.3387 756.616 83.198 753.465 Q84.0256 750.314 84.0256 747.227 Q84.0256 743.089 82.6251 740.861 Q81.1929 738.633 78.6147 738.633 Q76.2276 738.633 74.9545 740.256 Q73.6813 741.848 72.5037 747.29 L72.0262 749.327 Q70.8804 754.77 68.5251 757.189 Q66.138 759.608 62.0002 759.608 Q56.9713 759.608 54.2341 756.043 Q51.4968 752.478 51.4968 745.922 Q51.4968 742.675 51.9743 739.811 Q52.4517 736.946 53.4065 734.527 Z\" fill=\"#000000\" fill-rule=\"evenodd\" fill-opacity=\"1\" /><path clip-path=\"url(#clip930)\" d=\"M 0 0 M42.2347 720.682 L52.3562 720.682 L52.3562 708.619 L56.9077 708.619 L56.9077 720.682 L76.2594 720.682 Q80.6199 720.682 81.8613 719.504 Q83.1026 718.294 83.1026 714.634 L83.1026 708.619 L88.0042 708.619 L88.0042 714.634 Q88.0042 721.414 85.4897 723.992 Q82.9434 726.57 76.2594 726.57 L56.9077 726.57 L56.9077 730.867 L52.3562 730.867 L52.3562 726.57 L42.2347 726.57 L42.2347 720.682 Z\" fill=\"#000000\" fill-rule=\"evenodd\" fill-opacity=\"1\" /><polyline clip-path=\"url(#clip932)\" style=\"stroke:#009af9; stroke-width:4; stroke-opacity:1; fill:none\" points=\"\n",
       "  345.978,160.256 540.811,354.523 735.643,665.788 930.476,799.183 1125.31,960.284 1320.14,978.436 1514.97,1200.98 1709.81,1179.73 1904.64,1192.25 2099.47,1386.4 \n",
       "  2294.31,1197.36 \n",
       "  \"/>\n",
       "</svg>\n"
      ]
     },
     "execution_count": 22,
     "metadata": {},
     "output_type": "execute_result"
    }
   ],
   "source": [
    "#W_test, b_test = initialize_weights(784, [16, 16], 10);\n",
    "W1, b1 = stochastic_gradient_descent(W_test, b_test, train_data, 10, 10, 0.034, show_cost = true)\n",
    "plot!()"
   ]
  },
  {
   "cell_type": "code",
   "execution_count": null,
   "metadata": {},
   "outputs": [],
   "source": [
    "W_test, b_test = stochastic_gradient_descent(W_test, b_test, train_data, 10, 10000, 0.034)"
   ]
  },
  {
   "cell_type": "code",
   "execution_count": 23,
   "metadata": {},
   "outputs": [
    {
     "name": "stdout",
     "output_type": "stream",
     "text": [
      "Predicted Label: 0\n",
      "Actual Label: 7\n"
     ]
    },
    {
     "data": {
      "text/plain": [
       "28×28 reinterpret(Gray{N0f8}, ::LinearAlgebra.Adjoint{Normed{UInt8,8},Array{Normed{UInt8,8},2}}):\n",
       " Gray{N0f8}(0.0)  Gray{N0f8}(0.0)  …  Gray{N0f8}(0.0)  Gray{N0f8}(0.0)\n",
       " Gray{N0f8}(0.0)  Gray{N0f8}(0.0)     Gray{N0f8}(0.0)  Gray{N0f8}(0.0)\n",
       " Gray{N0f8}(0.0)  Gray{N0f8}(0.0)     Gray{N0f8}(0.0)  Gray{N0f8}(0.0)\n",
       " Gray{N0f8}(0.0)  Gray{N0f8}(0.0)     Gray{N0f8}(0.0)  Gray{N0f8}(0.0)\n",
       " Gray{N0f8}(0.0)  Gray{N0f8}(0.0)     Gray{N0f8}(0.0)  Gray{N0f8}(0.0)\n",
       " Gray{N0f8}(0.0)  Gray{N0f8}(0.0)  …  Gray{N0f8}(0.0)  Gray{N0f8}(0.0)\n",
       " Gray{N0f8}(0.0)  Gray{N0f8}(0.0)     Gray{N0f8}(0.0)  Gray{N0f8}(0.0)\n",
       " Gray{N0f8}(0.0)  Gray{N0f8}(0.0)     Gray{N0f8}(0.0)  Gray{N0f8}(0.0)\n",
       " Gray{N0f8}(0.0)  Gray{N0f8}(0.0)     Gray{N0f8}(0.0)  Gray{N0f8}(0.0)\n",
       " Gray{N0f8}(0.0)  Gray{N0f8}(0.0)     Gray{N0f8}(0.0)  Gray{N0f8}(0.0)\n",
       " Gray{N0f8}(0.0)  Gray{N0f8}(0.0)  …  Gray{N0f8}(0.0)  Gray{N0f8}(0.0)\n",
       " Gray{N0f8}(0.0)  Gray{N0f8}(0.0)     Gray{N0f8}(0.0)  Gray{N0f8}(0.0)\n",
       " Gray{N0f8}(0.0)  Gray{N0f8}(0.0)     Gray{N0f8}(0.0)  Gray{N0f8}(0.0)\n",
       " ⋮                                 ⋱                                  \n",
       " Gray{N0f8}(0.0)  Gray{N0f8}(0.0)     Gray{N0f8}(0.0)  Gray{N0f8}(0.0)\n",
       " Gray{N0f8}(0.0)  Gray{N0f8}(0.0)     Gray{N0f8}(0.0)  Gray{N0f8}(0.0)\n",
       " Gray{N0f8}(0.0)  Gray{N0f8}(0.0)     Gray{N0f8}(0.0)  Gray{N0f8}(0.0)\n",
       " Gray{N0f8}(0.0)  Gray{N0f8}(0.0)     Gray{N0f8}(0.0)  Gray{N0f8}(0.0)\n",
       " Gray{N0f8}(0.0)  Gray{N0f8}(0.0)  …  Gray{N0f8}(0.0)  Gray{N0f8}(0.0)\n",
       " Gray{N0f8}(0.0)  Gray{N0f8}(0.0)     Gray{N0f8}(0.0)  Gray{N0f8}(0.0)\n",
       " Gray{N0f8}(0.0)  Gray{N0f8}(0.0)     Gray{N0f8}(0.0)  Gray{N0f8}(0.0)\n",
       " Gray{N0f8}(0.0)  Gray{N0f8}(0.0)     Gray{N0f8}(0.0)  Gray{N0f8}(0.0)\n",
       " Gray{N0f8}(0.0)  Gray{N0f8}(0.0)     Gray{N0f8}(0.0)  Gray{N0f8}(0.0)\n",
       " Gray{N0f8}(0.0)  Gray{N0f8}(0.0)  …  Gray{N0f8}(0.0)  Gray{N0f8}(0.0)\n",
       " Gray{N0f8}(0.0)  Gray{N0f8}(0.0)     Gray{N0f8}(0.0)  Gray{N0f8}(0.0)\n",
       " Gray{N0f8}(0.0)  Gray{N0f8}(0.0)     Gray{N0f8}(0.0)  Gray{N0f8}(0.0)"
      ]
     },
     "execution_count": 23,
     "metadata": {},
     "output_type": "execute_result"
    },
    {
     "name": "stdout",
     "output_type": "stream",
     "text": [
      "All errors:\n",
      "===========================================\n",
      "ArgumentError: Package ImageIO [82e4d734-157c-48bb-816b-45c225c6df19] is required but does not seem to be installed:\n",
      " - Run `Pkg.instantiate()` to install all recorded dependencies.\n",
      "\n",
      "===========================================\n",
      "ArgumentError: Package QuartzImageIO [dca85d43-d64c-5e67-8c65-017450d5d020] is required but does not seem to be installed:\n",
      " - Run `Pkg.instantiate()` to install all recorded dependencies.\n",
      "\n",
      "===========================================\n",
      "ArgumentError: Package ImageMagick [6218d12a-5da1-5696-b52f-db25d2ecc6d1] is required but does not seem to be installed:\n",
      " - Run `Pkg.instantiate()` to install all recorded dependencies.\n",
      "\n",
      "===========================================\n",
      "function save does not accept keyword arguments\n",
      "===========================================\n"
     ]
    },
    {
     "name": "stderr",
     "output_type": "stream",
     "text": [
      "Errors encountered while save FileIO.Stream{FileIO.DataFormat{:PNG},IOContext{Base64.Base64EncodePipe},Nothing}(IOContext(Base64.Base64EncodePipe(IOBuffer(data=UInt8[...], readable=true, writable=true, seekable=true, append=false, size=0, maxsize=Inf, ptr=1, mark=-1), Base64.Buffer(UInt8[0x30, 0x50, 0x05, 0x1e, 0x01, 0x00, 0x00, 0x00, 0x70, 0x50, 0x05, 0x1e, 0x01, 0x00, 0x00, 0x00, 0xb0, 0x50, 0x05, 0x1e, 0x01, 0x00, 0x00, 0x00, 0xf0, 0x50, 0x05, 0x1e, 0x01, 0x00, 0x00, 0x00, 0x30, 0x51, 0x05, 0x1e, 0x01, 0x00, 0x00, 0x00, 0x70, 0x51, 0x05, 0x1e, 0x01, 0x00, 0x00, 0x00, 0xb0, 0x51, 0x05, 0x1e, 0x01, 0x00, 0x00, 0x00, 0xf0, 0x51, 0x05, 0x1e, 0x01, 0x00, 0x00, 0x00, 0x30, 0x52, 0x05, 0x1e, 0x01, 0x00, 0x00, 0x00, 0x70, 0x52, 0x05, 0x1e, 0x01, 0x00, 0x00, 0x00, 0xb0, 0x52, 0x05, 0x1e, 0x01, 0x00, 0x00, 0x00, 0xf0, 0x52, 0x05, 0x1e, 0x01, 0x00, 0x00, 0x00, 0x30, 0x53, 0x05, 0x1e, 0x01, 0x00, 0x00, 0x00, 0xf0, 0x53, 0x05, 0x1e, 0x01, 0x00, 0x00, 0x00, 0x30, 0x54, 0x05, 0x1e, 0x01, 0x00, 0x00, 0x00, 0x70, 0x54, 0x05, 0x1e, 0x01, 0x00, 0x00, 0x00, 0xb0, 0x54, 0x05, 0x1e, 0x01, 0x00, 0x00, 0x00, 0xf0, 0x54, 0x05, 0x1e, 0x01, 0x00, 0x00, 0x00, 0x30, 0x55, 0x05, 0x1e, 0x01, 0x00, 0x00, 0x00, 0x70, 0x55, 0x05, 0x1e, 0x01, 0x00, 0x00, 0x00, 0xb0, 0x55, 0x05, 0x1e, 0x01, 0x00, 0x00, 0x00, 0xf0, 0x55, 0x05, 0x1e, 0x01, 0x00, 0x00, 0x00, 0x30, 0x56, 0x05, 0x1e, 0x01, 0x00, 0x00, 0x00, 0x70, 0x56, 0x05, 0x1e, 0x01, 0x00, 0x00, 0x00, 0xb0, 0x56, 0x05, 0x1e, 0x01, 0x00, 0x00, 0x00, 0x70, 0x53, 0x05, 0x1e, 0x01, 0x00, 0x00, 0x00, 0xb0, 0x53, 0x05, 0x1e, 0x01, 0x00, 0x00, 0x00, 0xf0, 0x56, 0x05, 0x1e, 0x01, 0x00, 0x00, 0x00, 0x30, 0x57, 0x05, 0x1e, 0x01, 0x00, 0x00, 0x00, 0x70, 0x57, 0x05, 0x1e, 0x01, 0x00, 0x00, 0x00, 0xb0, 0x57, 0x05, 0x1e, 0x01, 0x00, 0x00, 0x00, 0xf0, 0x57, 0x05, 0x1e, 0x01, 0x00, 0x00, 0x00, 0x30, 0x58, 0x05, 0x1e, 0x01, 0x00, 0x00, 0x00, 0x10, 0x92, 0x75, 0x1a, 0x01, 0x00, 0x00, 0x00, 0xa0, 0x95, 0x75, 0x1a, 0x01, 0x00, 0x00, 0x00, 0x00, 0x00, 0x00, 0x00, 0x00, 0x00, 0x00, 0x00, 0x00, 0x00, 0x00, 0x00, 0x00, 0x00, 0x00, 0x00, 0x30, 0x96, 0x75, 0x1a, 0x01, 0x00, 0x00, 0x00, 0x00, 0x00, 0x00, 0x00, 0x00, 0x00, 0x00, 0x00, 0x00, 0x00, 0x00, 0x00, 0x00, 0x00, 0x00, 0x00, 0x70, 0x9e, 0x75, 0x1a, 0x01, 0x00, 0x00, 0x00, 0x01, 0x00, 0x00, 0x00, 0x00, 0x00, 0x00, 0x00, 0x02, 0x00, 0x00, 0x00, 0x00, 0x00, 0x00, 0x00, 0x0b, 0x00, 0x00, 0x00, 0x00, 0x00, 0x00, 0x00, 0x05, 0x00, 0x00, 0x00, 0x00, 0x00, 0x00, 0x00, 0x08, 0x00, 0x00, 0x00, 0x00, 0x00, 0x00, 0x00, 0x0d, 0x00, 0x00, 0x00, 0x00, 0x00, 0x00, 0x00, 0xb0, 0x97, 0x75, 0x1a, 0x01, 0x00, 0x00, 0x00, 0x40, 0x8f, 0x75, 0x1a, 0x01, 0x00, 0x00, 0x00, 0x00, 0x00, 0x00, 0x00, 0x00, 0x00, 0x00, 0x00, 0x00, 0x93, 0x75, 0x1a, 0x01, 0x00, 0x00, 0x00, 0xf0, 0x96, 0x75, 0x1a, 0x01, 0x00, 0x00, 0x00, 0x00, 0x00, 0x00, 0x00, 0x00, 0x00, 0x00, 0x00, 0x0a, 0x00, 0x00, 0x00, 0x00, 0x00, 0x00, 0x00, 0x0c, 0x00, 0x00, 0x00, 0x00, 0x00, 0x00, 0x00, 0x00, 0x00, 0x00, 0x00, 0x00, 0x00, 0x00, 0x00, 0x00, 0x00, 0x00, 0x00, 0x00, 0x00, 0x00, 0x00, 0x00, 0x00, 0x00, 0x00, 0x00, 0x00, 0x00, 0x00, 0xf0, 0x90, 0x75, 0x1a, 0x01, 0x00, 0x00, 0x00, 0x07, 0x00, 0x00, 0x00, 0x00, 0x00, 0x00, 0x00, 0x04, 0x00, 0x00, 0x00, 0x00, 0x00, 0x00, 0x00, 0x40, 0x98, 0x75, 0x1a, 0x01, 0x00, 0x00, 0x00, 0x00, 0x8d, 0x75, 0x1a, 0x01, 0x00, 0x00, 0x00, 0xa0, 0x98, 0x75, 0x1a, 0x01, 0x00, 0x00, 0x00], Ptr{UInt8} @0x0000000136ccd640, 0))), nothing).\n",
      "\n",
      "Fatal error:\n"
     ]
    }
   ],
   "source": [
    "random_test(W_test, b_test, test_data, test_y)"
   ]
  },
  {
   "cell_type": "code",
   "execution_count": null,
   "metadata": {},
   "outputs": [],
   "source": [
    "Pkg.instantiate()"
   ]
  },
  {
   "cell_type": "code",
   "execution_count": null,
   "metadata": {},
   "outputs": [],
   "source": [
    "W_test, b_test = stochastic_gradient_descent(W_test, b_test, train_data, 10, 10000, 0.034)"
   ]
  },
  {
   "cell_type": "code",
   "execution_count": null,
   "metadata": {},
   "outputs": [],
   "source": [
    "random_test(W_test, b_test, test_data, test_y)"
   ]
  },
  {
   "cell_type": "code",
   "execution_count": null,
   "metadata": {},
   "outputs": [],
   "source": [
    "W_test, b_test = stochastic_gradient_descent(W_test, b_test, train_data, 10, 20000, 0.034)"
   ]
  },
  {
   "cell_type": "code",
   "execution_count": null,
   "metadata": {},
   "outputs": [],
   "source": [
    "random_test(W_test, b_test, test_data, test_y)"
   ]
  },
  {
   "cell_type": "code",
   "execution_count": null,
   "metadata": {},
   "outputs": [],
   "source": [
    "L = [(1, 2), (3, 4), (10, 1)]\n",
    "sort!(L, by = x -> x[2])"
   ]
  },
  {
   "cell_type": "code",
   "execution_count": null,
   "metadata": {},
   "outputs": [],
   "source": [
    "A = [1, 2, 3, 4]\n",
    "B = [3, 4, 6, 7]\n"
   ]
  },
  {
   "cell_type": "code",
   "execution_count": null,
   "metadata": {},
   "outputs": [],
   "source": [
    "data = [p for p in zip(A, B)]"
   ]
  },
  {
   "cell_type": "code",
   "execution_count": null,
   "metadata": {},
   "outputs": [],
   "source": [
    "plot(data)\n",
    "scatter!(data)"
   ]
  },
  {
   "cell_type": "code",
   "execution_count": null,
   "metadata": {},
   "outputs": [],
   "source": [
    "data"
   ]
  },
  {
   "cell_type": "code",
   "execution_count": null,
   "metadata": {},
   "outputs": [],
   "source": [
    "zip(data)"
   ]
  },
  {
   "cell_type": "code",
   "execution_count": null,
   "metadata": {},
   "outputs": [],
   "source": [
    "for x in zip(p for p in data)\n",
    "    println(x)\n",
    "end"
   ]
  },
  {
   "cell_type": "code",
   "execution_count": null,
   "metadata": {},
   "outputs": [],
   "source": [
    "data[1]"
   ]
  },
  {
   "cell_type": "code",
   "execution_count": null,
   "metadata": {},
   "outputs": [],
   "source": [
    "X = [zip(A, B)]"
   ]
  },
  {
   "cell_type": "code",
   "execution_count": null,
   "metadata": {},
   "outputs": [],
   "source": [
    "X"
   ]
  },
  {
   "cell_type": "code",
   "execution_count": null,
   "metadata": {},
   "outputs": [],
   "source": [
    "d = Dict()\n",
    "for x = 1:10\n",
    "    d[x] = x+ 1\n",
    "end\n",
    "\n",
    "keys(d)"
   ]
  },
  {
   "cell_type": "code",
   "execution_count": null,
   "metadata": {},
   "outputs": [],
   "source": [
    "mutable struct my_object\n",
    "    a::Int64\n",
    "    b::Int64\n",
    "end\n",
    "\n",
    "function add_my_object(o::my_object)\n",
    "    return o.a + o.b\n",
    "end"
   ]
  },
  {
   "cell_type": "code",
   "execution_count": null,
   "metadata": {},
   "outputs": [],
   "source": [
    "m = my_object(10, 5)\n",
    "add_my_object(m)"
   ]
  },
  {
   "cell_type": "code",
   "execution_count": null,
   "metadata": {},
   "outputs": [],
   "source": []
  }
 ],
 "metadata": {
  "kernelspec": {
   "display_name": "Julia 1.0.5",
   "language": "julia",
   "name": "julia-1.0"
  },
  "language_info": {
   "file_extension": ".jl",
   "mimetype": "application/julia",
   "name": "julia",
   "version": "1.0.5"
  }
 },
 "nbformat": 4,
 "nbformat_minor": 4
}
