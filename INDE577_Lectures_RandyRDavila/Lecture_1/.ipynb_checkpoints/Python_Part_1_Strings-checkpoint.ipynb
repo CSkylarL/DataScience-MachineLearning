{
 "cells": [
  {
   "cell_type": "markdown",
   "metadata": {},
   "source": [
    "---\n",
    "\n",
    "# Python Part 1. Strings \n",
    "\n",
    "[![Open In Colab](https://colab.research.google.com/assets/colab-badge.svg)](https://colab.research.google.com/github/RandyRDavila/Data_Science_and_Machine_Learning_Spring_2022/blob/main/Lecture_1/Python_Part_1_Strings.ipynb)\n",
    "\n",
    "\n",
    "\n",
    "Python strings are sequences of characters and symbols surrounded by ``` \" \" ``` or by ``` ' ' ```, and will be used in many contexts, such as when writing *doc strings*, printing descriptive output, and when naming the columns of tabular data (*DataFrames*). Strings are also often the first representation of data read into a program before being converted to numerical values (if needed). To illustrate how strings work consider typing the following code into the cell below:\n",
    "\n",
    "```python\n",
    "# This is one way to define a string\n",
    "first_name = \"John\"\n",
    "\n",
    "# This is another way to define a string\n",
    "last_name = 'Doe'\n",
    "\n",
    "```\n",
    "\n",
    "**Tip 1.** When writing code in a professional manor try and stay consistant with how you define your strings. \n",
    "\n",
    "**Tip 2.** This code is an example of **variable assignment**. Variable names must begin with a non-numerical value and should always be lower case. Also, it is standard in Python to use underscores to seperate words in variable names. \n",
    "\n",
    "---"
   ]
  },
  {
   "cell_type": "code",
   "execution_count": null,
   "metadata": {},
   "outputs": [],
   "source": []
  },
  {
   "cell_type": "markdown",
   "metadata": {},
   "source": [
    "---\n",
    "\n",
    "You can check the values of the variables ```first_name``` and ```last_name``` by printing them with the ```print()``` function:\n",
    "```python\n",
    "print(first_name)\n",
    "\n",
    "print(last_name)\n",
    "```\n",
    "\n",
    "---"
   ]
  },
  {
   "cell_type": "code",
   "execution_count": null,
   "metadata": {},
   "outputs": [],
   "source": []
  },
  {
   "cell_type": "markdown",
   "metadata": {},
   "source": [
    "---\n",
    "\n",
    "We can insert a newline after a print statement by including the *new line character* ```\"\\n\"``` in the print function. Compare the following code with that above:\n",
    "```python\n",
    "print(first_name, \"\\n\")\n",
    "print(last_name)\n",
    "\n",
    "```\n",
    "\n",
    "---"
   ]
  },
  {
   "cell_type": "code",
   "execution_count": null,
   "metadata": {},
   "outputs": [],
   "source": []
  },
  {
   "cell_type": "markdown",
   "metadata": {},
   "source": [
    "---\n",
    "\n",
    "**String concatenation** is the process of merging one or more strings together. In Python this process is done by way of calling the ```+``` operator. For example, try running this in the following code cell:\n",
    "```python\n",
    "first_name + last_name\n",
    "\n",
    "```\n",
    "\n",
    "**Note.** If you are just wanting to view the value of one line of code, you do not have to call the ```print()``` function. This only works in the Python REPL and Jupyter notebooks. \n",
    "\n",
    "---"
   ]
  },
  {
   "cell_type": "code",
   "execution_count": null,
   "metadata": {},
   "outputs": [],
   "source": []
  },
  {
   "cell_type": "markdown",
   "metadata": {},
   "source": [
    "---\n",
    "\n",
    "We can easily add a white space (which is itself a character) between the first_name and last_name variable by running:\n",
    "```python\n",
    "first_name + \" \" + last_name\n",
    "```\n",
    "\n",
    "\n",
    "---"
   ]
  },
  {
   "cell_type": "code",
   "execution_count": null,
   "metadata": {},
   "outputs": [],
   "source": []
  },
  {
   "cell_type": "markdown",
   "metadata": {},
   "source": [
    "---\n",
    "\n",
    "Often times we need to place the value of a variable into a string. This **string interpolation** can be done using *f-strings*. This operation works by placing the letter ```f``` on the left side of your string in question and then placing variables inside ```{}```. For example try running the following code in the cell below:\n",
    "```python\n",
    "# Define a new variable age \n",
    "age = 34\n",
    "\n",
    "# String interpolation\n",
    "f\"{first_name} {last_name} is {age} years old\"\n",
    "```\n",
    "\n",
    "---"
   ]
  },
  {
   "cell_type": "code",
   "execution_count": null,
   "metadata": {},
   "outputs": [],
   "source": []
  },
  {
   "cell_type": "markdown",
   "metadata": {},
   "source": [
    "---\n",
    "\n",
    "**Everything in Python is an object and objects have attributes and methods associated with them.** When encountering a new Python object it is good practice to look up the attributes and methods associated with the object in question. For a list of all strings methods please click [here](https://www.w3schools.com/python/python_ref_string.asp), or try out the following abreviated list chosen at random:\n",
    "\n",
    "1. ```capitalize()```:  Converts the first character to upper case\n",
    "2. ```title()```:  Capitalizes the first letter of each word\n",
    "3. ```count()```:  Returns the number of times a specified value occurs in a string\n",
    "4. ```find()```:  Searches the string for a specified value and returns the position of where it was found\n",
    "\n",
    "**The attributes and methods of an object are accessed with:** \n",
    "* ```object.attribute```\n",
    "* ```object.method()``` \n",
    "\n",
    "For example, try running the following code in the cell below:\n",
    "\n",
    "```python\n",
    "test_string = \"hello world\"\n",
    "test_string.title()\n",
    "\n",
    "```\n",
    "\n",
    "\n",
    "---"
   ]
  },
  {
   "cell_type": "code",
   "execution_count": null,
   "metadata": {},
   "outputs": [],
   "source": []
  },
  {
   "cell_type": "markdown",
   "metadata": {},
   "source": [
    "---\n",
    "\n",
    "Notice that the first character in ```test_string``` now appears capitalized. This output was *returned* by the method ```title()``` and did not alter the variable itself. In particular it is important to note that **strings are immutable**. This can be varified by running the following code in the cell below:\n",
    "```python\n",
    "print(test_string)\n",
    "```\n",
    "\n",
    "\n",
    "\n",
    "---"
   ]
  },
  {
   "cell_type": "code",
   "execution_count": null,
   "metadata": {},
   "outputs": [],
   "source": []
  },
  {
   "cell_type": "markdown",
   "metadata": {},
   "source": [
    "---\n",
    "\n",
    "Next lets try the ```count()``` string method. Run the following code in the cell below:\n",
    "```python\n",
    "test_string.count()\n",
    "```\n",
    "\n",
    "\n",
    "---"
   ]
  },
  {
   "cell_type": "code",
   "execution_count": null,
   "metadata": {},
   "outputs": [],
   "source": []
  },
  {
   "cell_type": "markdown",
   "metadata": {},
   "source": [
    "---\n",
    "Running the code above should produce the following message:\n",
    "\n",
    "---\n",
    "\n",
    "```python\n",
    "---------------------------------------------------------------------------\n",
    "TypeError                                 Traceback (most recent call last)\n",
    "<ipython-input-32-a6597d389766> in <module>\n",
    "----> 1 test_string.count()\n",
    "\n",
    "TypeError: count() takes at least 1 argument (0 given)\n",
    "\n",
    "```\n",
    "\n",
    "---\n",
    "\n",
    "\n",
    "**Tip.** Whenever you encounter an error it is important to quickly view the last line of the error output in order to quickly diagnose what is going wrong. \n",
    "\n",
    "In our case we see the line ```TypeError: count() takes at least 1 argument (0 given)```. This tells me that the ```count()``` string method takes at least one argument. We can access help with this problem by calling the ```help()``` function built into base Python. Run the following code in the cell below:\n",
    "```python\n",
    "help(test_string.count)\n",
    "```\n",
    "\n",
    "\n",
    "---"
   ]
  },
  {
   "cell_type": "code",
   "execution_count": null,
   "metadata": {},
   "outputs": [],
   "source": []
  },
  {
   "cell_type": "markdown",
   "metadata": {},
   "source": [
    "---\n",
    "\n",
    "Apparently the ```count()``` string method requires one substring argument and returns the number of occurences of this substring. So for example, try running the following code in the cell below:\n",
    "```python\n",
    "print(test_string, \"\\n\")\n",
    "test_string.count(\"l\")\n",
    "```\n",
    "\n",
    "---"
   ]
  },
  {
   "cell_type": "code",
   "execution_count": null,
   "metadata": {},
   "outputs": [],
   "source": []
  },
  {
   "cell_type": "markdown",
   "metadata": {},
   "source": [
    "---\n",
    "\n",
    "There are so many more string methods that I hope you explore on your own since we do not have time to explore them all here. Before moving to the next string topic try running one of my favorite string methods in the cell below:\n",
    "\n",
    "```python\n",
    "txt = \"I like bananas\"\n",
    "x = txt.replace(\"bananas\", \"apples\")\n",
    "print(x)\n",
    "```\n",
    "\n",
    "\n",
    "---"
   ]
  },
  {
   "cell_type": "code",
   "execution_count": null,
   "metadata": {},
   "outputs": [],
   "source": []
  },
  {
   "cell_type": "markdown",
   "metadata": {},
   "source": [
    "---\n",
    "\n",
    "## Strings are Sequences of Characters\n",
    "\n",
    "Next recall that **strings are sequences of characters** and hence must have a length! We can find out how many characters are in a string by calling the ```len()``` function. For example try:\n",
    "```python\n",
    "\n",
    "full_name = first_name + \" \" + last_name \n",
    "print(f\"{full_name} contains {len(full_name)} characters\")\n",
    "```\n",
    "\n",
    "\n",
    "---"
   ]
  },
  {
   "cell_type": "code",
   "execution_count": null,
   "metadata": {},
   "outputs": [],
   "source": []
  },
  {
   "cell_type": "markdown",
   "metadata": {},
   "source": [
    "---\n",
    "\n",
    "## String Indexing\n",
    "\n",
    "Since sequences are *ordered* and since strings are sequences of characters, it is natural to assume that characters in a string have *location* specified by a given index. In Python (and most other programming languages) indexing starts at 0. For example try running the following code in the cell below:\n",
    "```python\n",
    "test_string = \"abcdefg\"\n",
    "print(f\"The character at the 0 index of {test_string} is {test_string[0]} \\n\")\n",
    "print(f\"The character at the 1 index of {test_string} is {test_string[1]} \\n\")\n",
    "print(f\"The character at the 2 index of {test_string} is {test_string[2]} \\n\")\n",
    "```\n",
    "\n",
    "\n",
    "---"
   ]
  },
  {
   "cell_type": "code",
   "execution_count": null,
   "metadata": {},
   "outputs": [],
   "source": []
  },
  {
   "cell_type": "markdown",
   "metadata": {},
   "source": [
    "---\n",
    "\n",
    "**We can also reverse index**:\n",
    "\n",
    "```python\n",
    "test_string = \"abcdefg\"\n",
    "print(f\"The character at the -1 index of {test_string} is {test_string[-1]} \\n\")\n",
    "print(f\"The character at the -2 index of {test_string} is {test_string[-2]} \\n\")\n",
    "print(f\"The character at the -3 index of {test_string} is {test_string[-3]} \\n\")\n",
    "```\n",
    "\n",
    "\n",
    "What did you notice?\n",
    "\n",
    "---"
   ]
  },
  {
   "cell_type": "code",
   "execution_count": null,
   "metadata": {},
   "outputs": [],
   "source": []
  },
  {
   "cell_type": "markdown",
   "metadata": {},
   "source": [
    "---\n",
    "\n",
    "## String Slicing\n",
    "\n",
    "\n",
    "Anytime you can index through an object in Python you can also *slice* through the object. For example, try running the following code in the cell below:\n",
    "```python\n",
    "print(test_string[1])\n",
    "print(test_string[2])\n",
    "print(test_string[3])\n",
    "print(test_string[1:4])\n",
    "```\n",
    "**Note.** The synax ```object[a:b]``` means every entry of your  ```object``` starting at index ```a``` and ending at index ```b-1```.\n",
    "\n",
    "---"
   ]
  },
  {
   "cell_type": "code",
   "execution_count": null,
   "metadata": {},
   "outputs": [],
   "source": []
  },
  {
   "cell_type": "code",
   "execution_count": null,
   "metadata": {},
   "outputs": [],
   "source": []
  },
  {
   "cell_type": "code",
   "execution_count": null,
   "metadata": {},
   "outputs": [],
   "source": []
  }
 ],
 "metadata": {
  "@webio": {
   "lastCommId": null,
   "lastKernelId": null
  },
  "kernelspec": {
   "display_name": "Python 3.9.13",
   "language": "python",
   "name": "python3"
  },
  "language_info": {
   "codemirror_mode": {
    "name": "ipython",
    "version": 3
   },
   "file_extension": ".py",
   "mimetype": "text/x-python",
   "name": "python",
   "nbconvert_exporter": "python",
   "pygments_lexer": "ipython3",
   "version": "3.9.13"
  },
  "vscode": {
   "interpreter": {
    "hash": "edfd1d359eb7115c0ca6b1cbc28387d060239b20bea94caa2fa9667164714aaf"
   }
  }
 },
 "nbformat": 4,
 "nbformat_minor": 4
}
