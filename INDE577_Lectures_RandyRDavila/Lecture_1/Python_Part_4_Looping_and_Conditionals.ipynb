{
 "cells": [
  {
   "cell_type": "markdown",
   "metadata": {},
   "source": [
    "---\n",
    "\n",
    "# Python Part 4. Conditional Statements, Looping, and Comprehension \n",
    "\n",
    "[![Open In Colab](https://colab.research.google.com/assets/colab-badge.svg)](https://colab.research.google.com/github.com/RandyRDavila/Data_Science_and_Machine_Learning_Spring_2022/blob/main/Lecture_1/Python_Part_4_Looping_and_Conditionals.ipynb)\n",
    "\n",
    "## Part 4.a. Conditional Statements \n",
    "Conditional statements are fundamental building blocks to any serious program. The easiest way to understand this concept is by running the following code illustrating the ```if-else``` statement in the cell below:\n",
    "```python\n",
    "x = 10\n",
    "y = 4\n",
    "print(f\"x = {x}\")\n",
    "print(f\"y = {y}\")\n",
    "\n",
    "if x > y:\n",
    "    print(\"x is greater than y\")\n",
    "else:\n",
    "    print(\"x is less than y\")\n",
    "\n",
    "```\n",
    "\n",
    "**Note.** ```if (condition)``` and ```else (condition)``` are both proceeded by the colon symbol ```:```. This indicates to the Python interpreter that you are entering into a block of code. Each line of code in the respective block will be indented by 4 white spaces. \n",
    "\n",
    "---"
   ]
  },
  {
   "cell_type": "code",
   "execution_count": null,
   "metadata": {},
   "outputs": [],
   "source": []
  },
  {
   "attachments": {},
   "cell_type": "markdown",
   "metadata": {},
   "source": [
    "---\n",
    "\n",
    "Now try running the following code in the cell below (notice in this code we have ```y = 20```):\n",
    "```python\n",
    "x = 10\n",
    "y = 20\n",
    "print(f\"{x = }\") # Only works on Python 3.8 and higher\n",
    "print(f\"y = {y}\")\n",
    "\n",
    "if x > y:\n",
    "    print(\"x is greater than y\")  # tab is required at the begining of the code block of if\n",
    "else:\n",
    "    print(\"x is less than y\")\n",
    "\n",
    "```\n",
    "\n",
    "\n",
    "---"
   ]
  },
  {
   "cell_type": "code",
   "execution_count": null,
   "metadata": {},
   "outputs": [],
   "source": []
  },
  {
   "cell_type": "markdown",
   "metadata": {},
   "source": [
    "---\n",
    "\n",
    "As you can see, the print statement that is executed depends on the truth-value satisfied by either the ```if```-statement, or the ```else``` statement. \n",
    "\n",
    "\n",
    "When also considering the possibility when ```x == y``` (*Boolean equals*), we may adapt our ```if-else```-statment with a ```if-elif-else```-statement. For example, run the following in the cell below:\n",
    "```python\n",
    "x = 10\n",
    "y = 10\n",
    "print(f\"{x = }\")\n",
    "print(f\"y = {y}\")\n",
    "\n",
    "if x > y:\n",
    "    print(\"x is greater than y\")\n",
    "elif x == y:\n",
    "    print(\"x is equal to y\")\n",
    "else:\n",
    "    print(\"x is less than y\")\n",
    "\n",
    "```\n",
    "\n",
    "\n",
    "\n",
    "---"
   ]
  },
  {
   "cell_type": "code",
   "execution_count": null,
   "metadata": {},
   "outputs": [],
   "source": []
  },
  {
   "cell_type": "markdown",
   "metadata": {},
   "source": [
    "---\n",
    "\n",
    "## Part 4.b. Looping\n",
    "\n",
    "Looping is an iterative process that comes in two flavors, namely the ```while```-loop and the ```for```-loop. First we consider the ```while```-loop. This type of loop executes a block of code until the ```while```-condition is broken by way of some Boolean comparison. To illustrate this concept run the following code in the cell below:\n",
    "```python\n",
    "i = 1\n",
    "max_iterations = 10\n",
    "while i < max_iterations:\n",
    "    print(f\"i = {i}\")\n",
    "    i += 1  # The += operator increments the variable i by 1 (adds 1)\n",
    "\n",
    "```\n",
    "\n",
    "\n",
    "\n",
    "---"
   ]
  },
  {
   "cell_type": "code",
   "execution_count": null,
   "metadata": {},
   "outputs": [],
   "source": []
  },
  {
   "cell_type": "markdown",
   "metadata": {},
   "source": [
    "---\n",
    "\n",
    "Next up we have ```for```-loops. This type of loop is typically used when searching through some type of iterable object such as a string, list, tuple, set, or a dictionary. A simple example would be to print all the names contained in some list as shown in the following code and which you should run in the cell below:\n",
    "```python\n",
    "names = [\"Randy\", \"Andrew\", \"Ben\", \"Chrisy\", \"Rusty\"]\n",
    "\n",
    "for name in names:\n",
    "    print(name)\n",
    "\n",
    "```\n",
    "\n",
    "\n",
    "\n",
    "---"
   ]
  },
  {
   "cell_type": "code",
   "execution_count": null,
   "metadata": {},
   "outputs": [],
   "source": []
  },
  {
   "attachments": {},
   "cell_type": "markdown",
   "metadata": {},
   "source": [
    "---\n",
    "\n",
    "In many data science related tasks you may not only want to loop through the elements in an object, but also loop through the associated indices. This can be done by calling the function ```enumerate()``` as follows:\n",
    "```python\n",
    "names = [\"Randy\", \"Andrew\", \"Ben\", \"Chrisy\", \"Rusty\"]\n",
    "print(list(enumerate(names)))\n",
    "\n",
    "for i, name in enumerate(names):\n",
    "    print(f\"index: {i}, name: {name}\")\n",
    "\n",
    "```\n",
    "\n",
    "enumerate(iterable, start=0)\n",
    "Parameters:\n",
    "\n",
    "    Iterable: any object that supports iteration\n",
    "    Start: the index value from which the counter is to be started, by default it is 0\n",
    "    \n",
    "\n",
    "---"
   ]
  },
  {
   "cell_type": "code",
   "execution_count": null,
   "metadata": {},
   "outputs": [],
   "source": []
  },
  {
   "cell_type": "markdown",
   "metadata": {},
   "source": [
    "---\n",
    "\n",
    "Another common scenerio encountered by data scientist is that of pairing together data from two distinct lists. This can be done by calling the ```zip()``` function as shown in the following code:\n",
    "```python\n",
    "names = [\"Randy\", \"Andrew\", \"Ben\", \"Chrisy\", \"Rusty\"]\n",
    "ages = [34, 35, 35, 32, 39]\n",
    "\n",
    "for name, age in zip(names, ages):\n",
    "    print(f\"Name: {name}, Age: {age}\")\n",
    "\n",
    "```\n",
    "\n",
    "---"
   ]
  },
  {
   "cell_type": "code",
   "execution_count": null,
   "metadata": {},
   "outputs": [],
   "source": []
  },
  {
   "cell_type": "code",
   "execution_count": null,
   "metadata": {},
   "outputs": [],
   "source": []
  },
  {
   "cell_type": "markdown",
   "metadata": {},
   "source": [
    "---\n",
    "\n",
    "## Part 4.c. Comprehension\n",
    "\n",
    "Comprehension may be the newest concept to a lot of people transitioning to Python from another programming language. That being said, the concept is simple and very similar to *set builder notation* from mathematics. Here are a few examples to run in the cell below:\n",
    "```python\n",
    "# Normal List Creation\n",
    "normal_list = [1, 2, 3, 4, 5, 6, 7, 8, 9, 10]\n",
    "print(f\"normal_list = {normal_list} \\n\")\n",
    "\n",
    "# List Comprehension: Even values in regular list\n",
    "even_list = [x for x in normal_list if x % 2 == 0]\n",
    "print(f\"even_list = {even_list} \\n\")\n",
    "\n",
    "# List Comprehension: Odd values in regular list\n",
    "odd_list = [x for x in normal_list if x % 2 != 0]\n",
    "print(f\"odd_list = {odd_list} \\n\")\n",
    "\n",
    "# Dictionary Comprehension: keys are numbers, values are strings\n",
    "even_or_odd = {x : \"even\" if x % 2 == 0 else \"odd\" for x in normal_list}\n",
    "print(f\"even_or_odd = {even_or_odd} \\n\")\n",
    "\n",
    "\n",
    "```\n",
    "\n",
    "**Note.** The operation ```a % b``` is the remainder when ```b``` divides ```a```.\n",
    "\n",
    "---"
   ]
  },
  {
   "cell_type": "code",
   "execution_count": null,
   "metadata": {},
   "outputs": [],
   "source": [
    "\n"
   ]
  },
  {
   "cell_type": "code",
   "execution_count": null,
   "metadata": {},
   "outputs": [],
   "source": []
  }
 ],
 "metadata": {
  "@webio": {
   "lastCommId": null,
   "lastKernelId": null
  },
  "kernelspec": {
   "display_name": "Python 3",
   "language": "python",
   "name": "python3"
  },
  "language_info": {
   "codemirror_mode": {
    "name": "ipython",
    "version": 3
   },
   "file_extension": ".py",
   "mimetype": "text/x-python",
   "name": "python",
   "nbconvert_exporter": "python",
   "pygments_lexer": "ipython3",
   "version": "3.9.6"
  },
  "vscode": {
   "interpreter": {
    "hash": "31f2aee4e71d21fbe5cf8b01ff0e069b9275f58929596ceb00d14d90e3e16cd6"
   }
  }
 },
 "nbformat": 4,
 "nbformat_minor": 4
}
