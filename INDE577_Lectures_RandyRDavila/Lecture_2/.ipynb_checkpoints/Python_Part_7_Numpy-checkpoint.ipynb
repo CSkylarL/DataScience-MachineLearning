{
 "cells": [
  {
   "cell_type": "markdown",
   "metadata": {},
   "source": [
    "---\n",
    "\n",
    "# Python Part 7. Numpy\n",
    "\n",
    "NumPy is the fundamental package for scientific computing in Python. It is a Python library that provides a multidimensional array object, various derived objects (such as masked arrays and matrices), and an assortment of routines for fast operations on arrays, including mathematical, logical, shape manipulation, sorting, selecting, I/O, discrete Fourier transforms, basic linear algebra, basic statistical operations, random simulation and much more.\n",
    "\n",
    "At the core of the NumPy package, is the ndarray object. This encapsulates n-dimensional arrays of homogeneous data types, with many operations being performed in compiled code for performance. There are several important differences between NumPy arrays and the standard Python sequences:\n",
    "\n",
    "* NumPy arrays have a fixed size at creation, unlike Python lists (which can grow dynamically). Changing the size of an ndarray will create a new array and delete the original.\n",
    "* The elements in a NumPy array are all required to be of the same data type, and thus will be the same size in memory. The exception: one can have arrays of (Python, including NumPy) objects, thereby allowing for arrays of different sized elements.\n",
    "* NumPy arrays facilitate advanced mathematical and other types of operations on large numbers of data. Typically, such operations are executed more efficiently and with less code than is possible using Python’s built-in sequences.\n",
    "* A growing plethora of scientific and mathematical Python-based packages are using NumPy arrays; though these typically support Python-sequence input, they convert such input to NumPy arrays prior to processing, and they often output NumPy arrays. In other words, in order to efficiently use much (perhaps even most) of today’s scientific/mathematical Python-based software, just knowing how to use Python’s built-in sequence types is insufficient - one also needs to know how to use NumPy arrays.\n",
    "\n",
    "## The Basic Numpy ```ndarray```\n",
    "It is standard to import numpy using the *alias* np. In the code below we import numpy and create a simple ```ndarray``` using the numpy ```array([])``` method. Run this code in the cell below.\n",
    "```python\n",
    "import numpy as np\n",
    "\n",
    "a = np.array([1.0, 2.0, 3.0])\n",
    "print(f\"{a = }\")\n",
    "print(f\"The type of a is: {type(a) = }\")\n",
    "```\n",
    "\n",
    "---"
   ]
  },
  {
   "cell_type": "code",
   "execution_count": null,
   "metadata": {},
   "outputs": [],
   "source": []
  },
  {
   "cell_type": "markdown",
   "metadata": {},
   "source": [
    "---\n",
    "\n",
    "As shown in the output above, we see that ```a``` is ```<class 'numpy.ndarray'>```. Thus, ```a``` will have attributes and methods which can be found at the official documentation [here](https://numpy.org/doc/stable/reference/generated/numpy.ndarray.html). For example numpy ndarrays have ```shape``` and ```dtype``` attributes. Run the following code in the cell below.\n",
    "```python\n",
    "a = np.array([1.0, 2.0, 3.0])\n",
    "print(f\"{a = }\")\n",
    "print(f\"The shape of a is: {a.shape = }\")\n",
    "print(f\"The types in a are: {a.dtype = } \\n\")\n",
    "\n",
    "b = np.array([1, 2, 3, 4, 5])\n",
    "print(f\"{b = }\")\n",
    "print(f\"The shape of b is: {b.shape = }\")\n",
    "print(f\"The types in b are: {b.dtype = }\")\n",
    "\n",
    "```\n",
    "\n",
    "---"
   ]
  },
  {
   "cell_type": "code",
   "execution_count": null,
   "metadata": {},
   "outputs": [],
   "source": []
  },
  {
   "cell_type": "markdown",
   "metadata": {},
   "source": [
    "---\n",
    "\n",
    "Numpy ```ndarray``` types also has *fast* methods for computing properties such as:\n",
    "* ```ndarray.mean()```: Mean of values in ```ndarray```\n",
    "* ```ndarray.max()```: Maximum of values in ```ndarray```\n",
    "* ```ndarray.argmax()```: Index of the maximum value in ```ndarray```\n",
    "* ```ndarray.min()```: Minimum of values in ```ndarray```\n",
    "* ```ndarray.argmin()```: Index of the minimum value in ```ndarray```\n",
    "\n",
    "For example run the following code in the cell below.\n",
    "```python\n",
    "a = np.array([10.0, 4.0, -3.5, 9.75, 20.1, 7.0])\n",
    "\n",
    "print(f\"{a = }\")\n",
    "print(f\"The mean of values in a: {a.mean() = }\")\n",
    "print(f\"The maximum of values in a: {a.max() = }\")\n",
    "print(f\"The argmax of values in a: {a.argmax() = }\")\n",
    "print(f\"The minimum of values in a: {a.min() = }\")\n",
    "print(f\"The argmin of values in a: {a.argmin() = }\")\n",
    "```\n",
    "\n",
    "---"
   ]
  },
  {
   "cell_type": "code",
   "execution_count": null,
   "metadata": {},
   "outputs": [],
   "source": [
    "\n"
   ]
  },
  {
   "cell_type": "markdown",
   "metadata": {},
   "source": [
    "---\n",
    "\n",
    "## Scalar Multiplication and Arithmetic Operators\n",
    "The simple Numpy ```ndarray``` types defined above behave similar to *linear algebraic vectors*. As such these arrays obey scaler multiplication and vector addition and subtraction. For example, run the following code in the cell below.\n",
    "```python\n",
    "a = np.array([1.0, 2.0, 3.0])\n",
    "b = np.array([4, 5, 6])\n",
    "\n",
    "print(f\"{a = }\")\n",
    "print(f\"{b = }\")\n",
    "\n",
    "print(f\"{3*a = }\")\n",
    "print(f\"{a + b = }\")\n",
    "print(f\"{a - 2*b = }\")\n",
    "\n",
    "```\n",
    "\n",
    "---"
   ]
  },
  {
   "cell_type": "code",
   "execution_count": null,
   "metadata": {},
   "outputs": [],
   "source": []
  },
  {
   "cell_type": "markdown",
   "metadata": {},
   "source": [
    "---\n",
    "\n",
    "The Numpy ```ndarray``` type also support vector *dot products*. Recall that if $v$ and $w$ are vectors of the same dimension, say both are column vectors with $m$ entries, then the dot product of $v$ with $w$ is:\n",
    "\n",
    "$\n",
    "v^T w = v_1w_1 + v_2w_2 + \\dots v_mw_m\n",
    "$\n",
    "\n",
    "The dot product of ```ndarray``` types ```v``` and ```w``` is supported by Numpy in two ways:\n",
    "1. With the Numpy ```dot()``` method.\n",
    "2. With the use of the ```@``` operator. \n",
    "\n",
    "For example, run the following code in the cell below.\n",
    "```python\n",
    "a = np.array([1.0, 2.0, 3.0])\n",
    "b = np.array([4, 5, 6])\n",
    "\n",
    "print(f\"{a = }\")\n",
    "print(f\"{b = }\")\n",
    "\n",
    "print(f\"{np.dot(a, b) = }\")\n",
    "print(f\"{a @ b = }\")\n",
    "```\n",
    "\n",
    "---"
   ]
  },
  {
   "cell_type": "code",
   "execution_count": null,
   "metadata": {},
   "outputs": [],
   "source": []
  },
  {
   "cell_type": "markdown",
   "metadata": {},
   "source": [
    "---\n",
    "\n",
    "## Column and Row Vector Representations in Numpy\n",
    "\n",
    "When working with the basic numpy ```ndarray``` types shown above, I typically think of them as representing linear algebraic *column vectors*, though this is not technically correct because the dimensions are not as they should be. However, we can enforce this representation by explicitly setting the ```shape``` to be $m \\times 1$ where $m$ is the number of elements in the the column vector. For example, run the following code in the cell below.\n",
    "```python\n",
    "a = np.array([1.0, 2.0, 3.0])\n",
    "print(f\"{a = }\")\n",
    "print(f\"The old shape of a is: {a.shape = }\")\n",
    "\n",
    "a.shape = (3, 1)\n",
    "print(f\"The new shape of a is: {a.shape = }\")\n",
    "print(f\"{a = }\")\n",
    "```\n",
    "\n",
    "---"
   ]
  },
  {
   "cell_type": "code",
   "execution_count": null,
   "metadata": {},
   "outputs": [],
   "source": [
    "\n"
   ]
  },
  {
   "cell_type": "markdown",
   "metadata": {},
   "source": [
    "---\n",
    "\n",
    "These basic numpy ```ndarray``` types can also be converted into representations of linear algebraic *row vectors* by explicitly setting the ```shape``` to be $1 \\times n$ where $n$ is the number of elements in the row of the vector. For example, run the following code in the cell below.\n",
    "```python\n",
    "a = np.array([1.0, 2.0, 3.0])\n",
    "print(f\"{a = }\")\n",
    "print(f\"The old shape of a is: {a.shape = } \\n\")\n",
    "\n",
    "a.shape = (1, 3)\n",
    "print(f\"The new shape of a is: {a.shape = }\")\n",
    "print(f\"{a = }\")\n",
    "```\n",
    "\n",
    "---"
   ]
  },
  {
   "cell_type": "code",
   "execution_count": null,
   "metadata": {},
   "outputs": [],
   "source": []
  },
  {
   "cell_type": "markdown",
   "metadata": {},
   "source": [
    "---\n",
    "\n",
    "## Matrices\n",
    "\n",
    "Column vectors are special cases of linear algebraic matrices. Matrices can be constructed by passing into the numpy ```array([])``` method a list whose elements are the rows of your desired matrix in a list each. Note that this implies each each row list must have the same number of elements. For example, run the following code in the cell below. \n",
    "\n",
    "```python\n",
    "A = np.array([[1.0, 2.0, 3.0], [4.0, 5.0, 6.0]])\n",
    "\n",
    "print(f\"The shape of A is: {A.shape = }\")\n",
    "print(f\"{A = } \\n\")\n",
    "\n",
    "print(f\"Row 0: {A[0, :] = }\")\n",
    "print(f\"Row 1: {A[1, :] = } \\n\")\n",
    "\n",
    "print(f\"Column 0: {A[:, 0] = }\")\n",
    "print(f\"Column 1: {A[:, 1] = } \\n\")\n",
    "\n",
    "print(f\"Element at row index 0 and column index 2: {A[0, 2] = }\")\n",
    "\n",
    "```\n",
    "\n",
    "\n",
    "---"
   ]
  },
  {
   "cell_type": "code",
   "execution_count": null,
   "metadata": {},
   "outputs": [],
   "source": []
  },
  {
   "cell_type": "markdown",
   "metadata": {},
   "source": [
    "---\n",
    "\n",
    "In many instances we might need to look at the *transpose* of a matrix or of a vector. Recall that the transpose interchanges the rows and columns of a matrix.  Given that these notions have representations using Numpy ```ndarray``` types it is not surprising that Numpy ```ndarray``` types support a tranpose method. \n",
    "```python\n",
    "A = np.array([[1.0, 2.0, 3.0], [4.0, 5.0, 6.0]])\n",
    "\n",
    "print(f\"The shape of A is: {A.shape = }\")\n",
    "print(f\"{A = } \\n\")\n",
    "\n",
    "print(f\"Row 0: {A[0, :] = }\")\n",
    "print(f\"Row 1: {A[1, :] = } \\n\")\n",
    "\n",
    "print(f\"Column 0: {A[:, 0] = }\")\n",
    "print(f\"Column 1: {A[:, 1] = } \\n\")\n",
    "\n",
    "print(\"-\"*40)\n",
    "\n",
    "B = A.T # The Transpose method\n",
    "print(f\"The shape of B is: {B.shape = }\")\n",
    "print(f\"A.T: {B = } \\n\")\n",
    "\n",
    "print(f\"Row 0: {B[0, :] = }\")\n",
    "print(f\"Row 1: {B[1, :] = } \\n\")\n",
    "\n",
    "print(f\"Column 0: {B[:, 0] = }\")\n",
    "print(f\"Column 1: {B[:, 1] = } \\n\")\n",
    "\n",
    "```\n",
    "\n",
    "---"
   ]
  },
  {
   "cell_type": "code",
   "execution_count": null,
   "metadata": {},
   "outputs": [],
   "source": []
  },
  {
   "cell_type": "markdown",
   "metadata": {},
   "source": [
    "![](root_image.jpeg)"
   ]
  },
  {
   "cell_type": "markdown",
   "metadata": {},
   "source": [
    "---\n",
    "\n",
    "# Random Numbers, Vectors, and Matrices with Numpy\n",
    "\n",
    "### What is a Random Number?\n",
    "The term random number does NOT mean a different number every time. Random means something that can not be predicted logically.\n",
    "\n",
    "### Pseudo Random versus True Random.\n",
    "Computers work on programs, and programs are definitive set of instructions. So it means there must be some algorithm to generate a random number as well. If there is a program to generate random number it can be predicted, thus it is not truly random. Random numbers generated through a generation algorithm are called *pseudo random*.\n",
    "\n",
    "\n",
    "## The Numpy ```random``` module\n",
    "NumPy offers the ```random``` module to work with random numbers. To begin we first generate a random ```int``` and random ```float``` by running the following code in the cell below.\n",
    "```python\n",
    "# Random Integer between 0 and 100\n",
    "x = np.random.randint(100)\n",
    "print(f\"{x = }\")\n",
    "\n",
    "# Random Float between 0 and 1\n",
    "y = np.random.rand()\n",
    "print(f\"{y = }\")\n",
    "\n",
    "```\n",
    "\n",
    "\n",
    "---"
   ]
  },
  {
   "cell_type": "code",
   "execution_count": null,
   "metadata": {},
   "outputs": [],
   "source": []
  },
  {
   "cell_type": "markdown",
   "metadata": {},
   "source": [
    "---\n",
    "\n",
    "## Numpy Random Arrays\n",
    "We can use the two methods from the above examples to make random arrays. Try running the following code in the cell below.\n",
    "```python\n",
    "# Random integer array with range 0 to 100 and 5 entries\n",
    "x = np.random.randint(100, size=(5))\n",
    "print(f\"{x = }\")\n",
    "\n",
    "# Random float array with range 0 to 1 and 5 entries\n",
    "y = np.random.rand(5)\n",
    "print(f\"{y = }\")\n",
    "```\n",
    "\n",
    "---"
   ]
  },
  {
   "cell_type": "code",
   "execution_count": null,
   "metadata": {},
   "outputs": [],
   "source": []
  },
  {
   "cell_type": "markdown",
   "metadata": {},
   "source": [
    "---\n",
    "\n",
    "We can also generate 2-dimensional arrays in a similar manor. Try running the following code in the cell below,\n",
    "```python\n",
    "A = np.random.rand(3, 2)\n",
    "print(f\"The shape of A is: {A.shape = }\")\n",
    "print(f\"{A = } \\n\")\n",
    "\n",
    "print(f\"Row 0: {A[0, :] = }\")\n",
    "print(f\"Row 1: {A[1, :] = } \\n\")\n",
    "\n",
    "print(f\"Column 0: {A[:, 0] = }\")\n",
    "print(f\"Column 1: {A[:, 1] = } \\n\")\n",
    "\n",
    "```\n",
    "---"
   ]
  },
  {
   "cell_type": "code",
   "execution_count": null,
   "metadata": {},
   "outputs": [],
   "source": []
  },
  {
   "cell_type": "markdown",
   "metadata": {},
   "source": [
    "---\n",
    "\n",
    "## Numpy Random Sampling \n",
    "In *reinforcement learning* and *Markov decision processes* we are often concerned with sampling actions from a given array of values. Numpys ```random``` module has a ```choice()``` method to help us with this. Try running the following code in the cell below.\n",
    "```python\n",
    "x = np.random.choice([3, 6, 9, 12])\n",
    "print(f\"{x = }\")\n",
    "```\n",
    "\n",
    "---"
   ]
  },
  {
   "cell_type": "code",
   "execution_count": null,
   "metadata": {},
   "outputs": [],
   "source": []
  },
  {
   "cell_type": "code",
   "execution_count": null,
   "metadata": {},
   "outputs": [],
   "source": []
  }
 ],
 "metadata": {
  "interpreter": {
   "hash": "40d3a090f54c6569ab1632332b64b2c03c39dcf918b08424e98f38b5ae0af88f"
  },
  "kernelspec": {
   "display_name": "Python 3",
   "language": "python",
   "name": "python3"
  },
  "language_info": {
   "codemirror_mode": {
    "name": "ipython",
    "version": 3
   },
   "file_extension": ".py",
   "mimetype": "text/x-python",
   "name": "python",
   "nbconvert_exporter": "python",
   "pygments_lexer": "ipython3",
   "version": "3.8.5"
  }
 },
 "nbformat": 4,
 "nbformat_minor": 2
}
